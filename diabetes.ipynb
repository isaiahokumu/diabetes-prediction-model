{
 "cells": [
  {
   "cell_type": "markdown",
   "id": "1bfee0a8",
   "metadata": {},
   "source": [
    "# Diabetes Prediction Model\n"
   ]
  },
  {
   "cell_type": "code",
   "execution_count": 6,
   "id": "72592523",
   "metadata": {},
   "outputs": [],
   "source": [
    "import pandas as pd"
   ]
  },
  {
   "cell_type": "code",
   "execution_count": 4,
   "id": "02f918a0",
   "metadata": {},
   "outputs": [],
   "source": [
    "# Data Preparation, Modeling, and Evaluation (SKLearn Modules)\n",
    "from sklearn.pipeline import make_pipeline, Pipeline\n",
    "from sklearn.preprocessing import LabelBinarizer,OneHotEncoder, OrdinalEncoder\n",
    "from sklearn.preprocessing import MinMaxScaler,RobustScaler, StandardScaler,  PolynomialFeatures\n",
    "from sklearn.compose import make_column_transformer\n",
    "from sklearn.impute import SimpleImputer\n",
    "\n",
    "# Class Imbalance\n",
    "from imblearn.over_sampling import SMOTE\n",
    "\n",
    "## Model Selection and Tuning\n",
    "from sklearn.model_selection import train_test_split, cross_val_score, GridSearchCV, RandomizedSearchCV\n",
    "\n",
    "# Machine Learning Models\n",
    "from sklearn.svm import LinearSVC, SVC\n",
    "from sklearn.linear_model import LogisticRegression\n",
    "from sklearn.ensemble import RandomForestClassifier\n",
    "from sklearn.neighbors import KNeighborsClassifier\n",
    "\n",
    "# Machine Learning Model Evaluation Methods\n",
    "from sklearn.metrics import accuracy_score, precision_score, recall_score, f1_score, roc_auc_score, confusion_matrix\n",
    "from sklearn.base import BaseEstimator, TransformerMixin"
   ]
  },
  {
   "cell_type": "markdown",
   "id": "fcfa77d6",
   "metadata": {},
   "source": [
    "### Load the dataset"
   ]
  },
  {
   "cell_type": "code",
   "execution_count": 92,
   "id": "c9295198",
   "metadata": {},
   "outputs": [],
   "source": [
    "df = pd.read_csv('./data/diabetes.csv')"
   ]
  },
  {
   "cell_type": "markdown",
   "id": "d5874f69",
   "metadata": {},
   "source": [
    "### Describe the dataset\n"
   ]
  },
  {
   "cell_type": "code",
   "execution_count": 93,
   "id": "57adf594",
   "metadata": {},
   "outputs": [
    {
     "data": {
      "text/plain": [
       "(441456, 330)"
      ]
     },
     "execution_count": 93,
     "metadata": {},
     "output_type": "execute_result"
    }
   ],
   "source": [
    "df.shape"
   ]
  },
  {
   "cell_type": "code",
   "execution_count": 94,
   "id": "6bbdaec7",
   "metadata": {},
   "outputs": [
    {
     "data": {
      "text/html": [
       "<div>\n",
       "<style scoped>\n",
       "    .dataframe tbody tr th:only-of-type {\n",
       "        vertical-align: middle;\n",
       "    }\n",
       "\n",
       "    .dataframe tbody tr th {\n",
       "        vertical-align: top;\n",
       "    }\n",
       "\n",
       "    .dataframe thead th {\n",
       "        text-align: right;\n",
       "    }\n",
       "</style>\n",
       "<table border=\"1\" class=\"dataframe\">\n",
       "  <thead>\n",
       "    <tr style=\"text-align: right;\">\n",
       "      <th></th>\n",
       "      <th>_STATE</th>\n",
       "      <th>FMONTH</th>\n",
       "      <th>IDATE</th>\n",
       "      <th>IMONTH</th>\n",
       "      <th>IDAY</th>\n",
       "      <th>IYEAR</th>\n",
       "      <th>DISPCODE</th>\n",
       "      <th>SEQNO</th>\n",
       "      <th>_PSU</th>\n",
       "      <th>CTELENUM</th>\n",
       "      <th>...</th>\n",
       "      <th>_PAREC1</th>\n",
       "      <th>_PASTAE1</th>\n",
       "      <th>_LMTACT1</th>\n",
       "      <th>_LMTWRK1</th>\n",
       "      <th>_LMTSCL1</th>\n",
       "      <th>_RFSEAT2</th>\n",
       "      <th>_RFSEAT3</th>\n",
       "      <th>_FLSHOT6</th>\n",
       "      <th>_PNEUMO2</th>\n",
       "      <th>_AIDTST3</th>\n",
       "    </tr>\n",
       "  </thead>\n",
       "  <tbody>\n",
       "    <tr>\n",
       "      <th>0</th>\n",
       "      <td>1.0</td>\n",
       "      <td>1.0</td>\n",
       "      <td>b'01292015'</td>\n",
       "      <td>b'01'</td>\n",
       "      <td>b'29'</td>\n",
       "      <td>b'2015'</td>\n",
       "      <td>1200.0</td>\n",
       "      <td>2.015000e+09</td>\n",
       "      <td>2.015000e+09</td>\n",
       "      <td>1.0</td>\n",
       "      <td>...</td>\n",
       "      <td>4.0</td>\n",
       "      <td>2.0</td>\n",
       "      <td>1.0</td>\n",
       "      <td>1.0</td>\n",
       "      <td>1.0</td>\n",
       "      <td>1.0</td>\n",
       "      <td>1.0</td>\n",
       "      <td>NaN</td>\n",
       "      <td>NaN</td>\n",
       "      <td>1.0</td>\n",
       "    </tr>\n",
       "    <tr>\n",
       "      <th>1</th>\n",
       "      <td>1.0</td>\n",
       "      <td>1.0</td>\n",
       "      <td>b'01202015'</td>\n",
       "      <td>b'01'</td>\n",
       "      <td>b'20'</td>\n",
       "      <td>b'2015'</td>\n",
       "      <td>1100.0</td>\n",
       "      <td>2.015000e+09</td>\n",
       "      <td>2.015000e+09</td>\n",
       "      <td>1.0</td>\n",
       "      <td>...</td>\n",
       "      <td>2.0</td>\n",
       "      <td>2.0</td>\n",
       "      <td>3.0</td>\n",
       "      <td>3.0</td>\n",
       "      <td>4.0</td>\n",
       "      <td>2.0</td>\n",
       "      <td>2.0</td>\n",
       "      <td>NaN</td>\n",
       "      <td>NaN</td>\n",
       "      <td>2.0</td>\n",
       "    </tr>\n",
       "    <tr>\n",
       "      <th>2</th>\n",
       "      <td>1.0</td>\n",
       "      <td>1.0</td>\n",
       "      <td>b'02012015'</td>\n",
       "      <td>b'02'</td>\n",
       "      <td>b'01'</td>\n",
       "      <td>b'2015'</td>\n",
       "      <td>1200.0</td>\n",
       "      <td>2.015000e+09</td>\n",
       "      <td>2.015000e+09</td>\n",
       "      <td>1.0</td>\n",
       "      <td>...</td>\n",
       "      <td>9.0</td>\n",
       "      <td>9.0</td>\n",
       "      <td>9.0</td>\n",
       "      <td>9.0</td>\n",
       "      <td>9.0</td>\n",
       "      <td>9.0</td>\n",
       "      <td>9.0</td>\n",
       "      <td>9.0</td>\n",
       "      <td>9.0</td>\n",
       "      <td>NaN</td>\n",
       "    </tr>\n",
       "    <tr>\n",
       "      <th>3</th>\n",
       "      <td>1.0</td>\n",
       "      <td>1.0</td>\n",
       "      <td>b'01142015'</td>\n",
       "      <td>b'01'</td>\n",
       "      <td>b'14'</td>\n",
       "      <td>b'2015'</td>\n",
       "      <td>1100.0</td>\n",
       "      <td>2.015000e+09</td>\n",
       "      <td>2.015000e+09</td>\n",
       "      <td>1.0</td>\n",
       "      <td>...</td>\n",
       "      <td>4.0</td>\n",
       "      <td>2.0</td>\n",
       "      <td>1.0</td>\n",
       "      <td>1.0</td>\n",
       "      <td>1.0</td>\n",
       "      <td>1.0</td>\n",
       "      <td>1.0</td>\n",
       "      <td>NaN</td>\n",
       "      <td>NaN</td>\n",
       "      <td>9.0</td>\n",
       "    </tr>\n",
       "    <tr>\n",
       "      <th>4</th>\n",
       "      <td>1.0</td>\n",
       "      <td>1.0</td>\n",
       "      <td>b'01142015'</td>\n",
       "      <td>b'01'</td>\n",
       "      <td>b'14'</td>\n",
       "      <td>b'2015'</td>\n",
       "      <td>1100.0</td>\n",
       "      <td>2.015000e+09</td>\n",
       "      <td>2.015000e+09</td>\n",
       "      <td>1.0</td>\n",
       "      <td>...</td>\n",
       "      <td>4.0</td>\n",
       "      <td>2.0</td>\n",
       "      <td>1.0</td>\n",
       "      <td>1.0</td>\n",
       "      <td>1.0</td>\n",
       "      <td>1.0</td>\n",
       "      <td>1.0</td>\n",
       "      <td>NaN</td>\n",
       "      <td>NaN</td>\n",
       "      <td>1.0</td>\n",
       "    </tr>\n",
       "  </tbody>\n",
       "</table>\n",
       "<p>5 rows × 330 columns</p>\n",
       "</div>"
      ],
      "text/plain": [
       "   _STATE  FMONTH        IDATE IMONTH   IDAY    IYEAR  DISPCODE         SEQNO  \\\n",
       "0     1.0     1.0  b'01292015'  b'01'  b'29'  b'2015'    1200.0  2.015000e+09   \n",
       "1     1.0     1.0  b'01202015'  b'01'  b'20'  b'2015'    1100.0  2.015000e+09   \n",
       "2     1.0     1.0  b'02012015'  b'02'  b'01'  b'2015'    1200.0  2.015000e+09   \n",
       "3     1.0     1.0  b'01142015'  b'01'  b'14'  b'2015'    1100.0  2.015000e+09   \n",
       "4     1.0     1.0  b'01142015'  b'01'  b'14'  b'2015'    1100.0  2.015000e+09   \n",
       "\n",
       "           _PSU  CTELENUM  ...  _PAREC1  _PASTAE1  _LMTACT1  _LMTWRK1  \\\n",
       "0  2.015000e+09       1.0  ...      4.0       2.0       1.0       1.0   \n",
       "1  2.015000e+09       1.0  ...      2.0       2.0       3.0       3.0   \n",
       "2  2.015000e+09       1.0  ...      9.0       9.0       9.0       9.0   \n",
       "3  2.015000e+09       1.0  ...      4.0       2.0       1.0       1.0   \n",
       "4  2.015000e+09       1.0  ...      4.0       2.0       1.0       1.0   \n",
       "\n",
       "   _LMTSCL1  _RFSEAT2  _RFSEAT3  _FLSHOT6  _PNEUMO2  _AIDTST3  \n",
       "0       1.0       1.0       1.0       NaN       NaN       1.0  \n",
       "1       4.0       2.0       2.0       NaN       NaN       2.0  \n",
       "2       9.0       9.0       9.0       9.0       9.0       NaN  \n",
       "3       1.0       1.0       1.0       NaN       NaN       9.0  \n",
       "4       1.0       1.0       1.0       NaN       NaN       1.0  \n",
       "\n",
       "[5 rows x 330 columns]"
      ]
     },
     "execution_count": 94,
     "metadata": {},
     "output_type": "execute_result"
    }
   ],
   "source": [
    "df.head()"
   ]
  },
  {
   "cell_type": "code",
   "execution_count": 96,
   "id": "1b10d558",
   "metadata": {},
   "outputs": [
    {
     "name": "stdout",
     "output_type": "stream",
     "text": [
      "<class 'pandas.core.frame.DataFrame'>\n",
      "RangeIndex: 441456 entries, 0 to 441455\n",
      "Columns: 330 entries, _STATE to _AIDTST3\n",
      "dtypes: float64(323), object(7)\n",
      "memory usage: 1.1+ GB\n"
     ]
    }
   ],
   "source": [
    "df.info()"
   ]
  },
  {
   "cell_type": "markdown",
   "id": "890913c2",
   "metadata": {},
   "source": [
    "### insight\n",
    "\n",
    "Our dataset contains 441456 of rows and 323 features. This data is derived from the Behavioural Risk Factor Surveillance System powered by the Center for Diseases Control that they conduct yearly. The dataset consists of responses that are general but my focus for this model is to predict based on certain risk factors diabetes type 2. Therefore we will only select the features that are best suited for labelling a patient as diabetes type 2 positive or negative\n",
    "\n",
    "The following risk factors are our concern for diabetes analysis:\n",
    "- blood pressure (high)\n",
    "- cholesterol (high)\n",
    "- smoking\n",
    "- diabetes\n",
    "- obesity\n",
    "- age\n",
    "- sex\n",
    "- race\n",
    "- diet\n",
    "- exercise\n",
    "- alcohol consumption\n",
    "- BMI (overweight)\n",
    "- household Income\n",
    "- marital Status\n",
    "- poor sleep\n",
    "- time since last checkup\n",
    "- education\n",
    "- health care coverage"
   ]
  },
  {
   "cell_type": "code",
   "execution_count": 114,
   "id": "691a6727",
   "metadata": {},
   "outputs": [],
   "source": [
    "# select specific columns\n",
    "df_selected = df[['DIABETE3',\n",
    "                  '_RFHYPE5',  \n",
    "                  'TOLDHI2', '_CHOLCHK', \n",
    "                  '_BMI5', \n",
    "                  'SMOKE100', \n",
    "                  'CVDSTRK3', '_MICHD', \n",
    "                  '_TOTINDA', \n",
    "                  '_FRTLT1', '_VEGLT1', \n",
    "                  '_RFDRHV5', \n",
    "                  'HLTHPLN1', 'MEDCOST', \n",
    "                  'GENHLTH', 'PHYSHLTH', 'DIFFWALK', \n",
    "                  'SEX', '_PRACE1', '_AGEG5YR', 'INCOME2' ]]"
   ]
  },
  {
   "cell_type": "code",
   "execution_count": 98,
   "id": "0dd088e3",
   "metadata": {},
   "outputs": [
    {
     "data": {
      "text/plain": [
       "(441456, 21)"
      ]
     },
     "execution_count": 98,
     "metadata": {},
     "output_type": "execute_result"
    }
   ],
   "source": [
    "df_selected.shape"
   ]
  },
  {
   "cell_type": "code",
   "execution_count": 99,
   "id": "55058570",
   "metadata": {},
   "outputs": [
    {
     "data": {
      "text/html": [
       "<div>\n",
       "<style scoped>\n",
       "    .dataframe tbody tr th:only-of-type {\n",
       "        vertical-align: middle;\n",
       "    }\n",
       "\n",
       "    .dataframe tbody tr th {\n",
       "        vertical-align: top;\n",
       "    }\n",
       "\n",
       "    .dataframe thead th {\n",
       "        text-align: right;\n",
       "    }\n",
       "</style>\n",
       "<table border=\"1\" class=\"dataframe\">\n",
       "  <thead>\n",
       "    <tr style=\"text-align: right;\">\n",
       "      <th></th>\n",
       "      <th>DIABETE3</th>\n",
       "      <th>_RFHYPE5</th>\n",
       "      <th>TOLDHI2</th>\n",
       "      <th>_CHOLCHK</th>\n",
       "      <th>_BMI5</th>\n",
       "      <th>SMOKE100</th>\n",
       "      <th>CVDSTRK3</th>\n",
       "      <th>_MICHD</th>\n",
       "      <th>_TOTINDA</th>\n",
       "      <th>_FRTLT1</th>\n",
       "      <th>...</th>\n",
       "      <th>_RFDRHV5</th>\n",
       "      <th>HLTHPLN1</th>\n",
       "      <th>MEDCOST</th>\n",
       "      <th>GENHLTH</th>\n",
       "      <th>PHYSHLTH</th>\n",
       "      <th>DIFFWALK</th>\n",
       "      <th>SEX</th>\n",
       "      <th>_PRACE1</th>\n",
       "      <th>_AGEG5YR</th>\n",
       "      <th>INCOME2</th>\n",
       "    </tr>\n",
       "  </thead>\n",
       "  <tbody>\n",
       "    <tr>\n",
       "      <th>0</th>\n",
       "      <td>3.0</td>\n",
       "      <td>2.0</td>\n",
       "      <td>1.0</td>\n",
       "      <td>1.0</td>\n",
       "      <td>4018.0</td>\n",
       "      <td>1.0</td>\n",
       "      <td>2.0</td>\n",
       "      <td>2.0</td>\n",
       "      <td>2.0</td>\n",
       "      <td>2.0</td>\n",
       "      <td>...</td>\n",
       "      <td>1.0</td>\n",
       "      <td>1.0</td>\n",
       "      <td>2.0</td>\n",
       "      <td>5.0</td>\n",
       "      <td>15.0</td>\n",
       "      <td>1.0</td>\n",
       "      <td>2.0</td>\n",
       "      <td>1.0</td>\n",
       "      <td>9.0</td>\n",
       "      <td>3.0</td>\n",
       "    </tr>\n",
       "    <tr>\n",
       "      <th>1</th>\n",
       "      <td>3.0</td>\n",
       "      <td>1.0</td>\n",
       "      <td>2.0</td>\n",
       "      <td>2.0</td>\n",
       "      <td>2509.0</td>\n",
       "      <td>1.0</td>\n",
       "      <td>2.0</td>\n",
       "      <td>2.0</td>\n",
       "      <td>1.0</td>\n",
       "      <td>2.0</td>\n",
       "      <td>...</td>\n",
       "      <td>1.0</td>\n",
       "      <td>2.0</td>\n",
       "      <td>1.0</td>\n",
       "      <td>3.0</td>\n",
       "      <td>88.0</td>\n",
       "      <td>2.0</td>\n",
       "      <td>2.0</td>\n",
       "      <td>1.0</td>\n",
       "      <td>7.0</td>\n",
       "      <td>1.0</td>\n",
       "    </tr>\n",
       "    <tr>\n",
       "      <th>2</th>\n",
       "      <td>3.0</td>\n",
       "      <td>1.0</td>\n",
       "      <td>1.0</td>\n",
       "      <td>1.0</td>\n",
       "      <td>2204.0</td>\n",
       "      <td>NaN</td>\n",
       "      <td>1.0</td>\n",
       "      <td>NaN</td>\n",
       "      <td>9.0</td>\n",
       "      <td>9.0</td>\n",
       "      <td>...</td>\n",
       "      <td>9.0</td>\n",
       "      <td>1.0</td>\n",
       "      <td>2.0</td>\n",
       "      <td>4.0</td>\n",
       "      <td>15.0</td>\n",
       "      <td>NaN</td>\n",
       "      <td>2.0</td>\n",
       "      <td>1.0</td>\n",
       "      <td>11.0</td>\n",
       "      <td>99.0</td>\n",
       "    </tr>\n",
       "    <tr>\n",
       "      <th>3</th>\n",
       "      <td>3.0</td>\n",
       "      <td>2.0</td>\n",
       "      <td>1.0</td>\n",
       "      <td>1.0</td>\n",
       "      <td>2819.0</td>\n",
       "      <td>2.0</td>\n",
       "      <td>2.0</td>\n",
       "      <td>2.0</td>\n",
       "      <td>2.0</td>\n",
       "      <td>1.0</td>\n",
       "      <td>...</td>\n",
       "      <td>1.0</td>\n",
       "      <td>1.0</td>\n",
       "      <td>1.0</td>\n",
       "      <td>5.0</td>\n",
       "      <td>30.0</td>\n",
       "      <td>1.0</td>\n",
       "      <td>2.0</td>\n",
       "      <td>1.0</td>\n",
       "      <td>9.0</td>\n",
       "      <td>8.0</td>\n",
       "    </tr>\n",
       "    <tr>\n",
       "      <th>4</th>\n",
       "      <td>3.0</td>\n",
       "      <td>1.0</td>\n",
       "      <td>2.0</td>\n",
       "      <td>1.0</td>\n",
       "      <td>2437.0</td>\n",
       "      <td>2.0</td>\n",
       "      <td>2.0</td>\n",
       "      <td>2.0</td>\n",
       "      <td>2.0</td>\n",
       "      <td>9.0</td>\n",
       "      <td>...</td>\n",
       "      <td>1.0</td>\n",
       "      <td>1.0</td>\n",
       "      <td>2.0</td>\n",
       "      <td>5.0</td>\n",
       "      <td>20.0</td>\n",
       "      <td>2.0</td>\n",
       "      <td>2.0</td>\n",
       "      <td>1.0</td>\n",
       "      <td>9.0</td>\n",
       "      <td>77.0</td>\n",
       "    </tr>\n",
       "  </tbody>\n",
       "</table>\n",
       "<p>5 rows × 21 columns</p>\n",
       "</div>"
      ],
      "text/plain": [
       "   DIABETE3  _RFHYPE5  TOLDHI2  _CHOLCHK   _BMI5  SMOKE100  CVDSTRK3  _MICHD  \\\n",
       "0       3.0       2.0      1.0       1.0  4018.0       1.0       2.0     2.0   \n",
       "1       3.0       1.0      2.0       2.0  2509.0       1.0       2.0     2.0   \n",
       "2       3.0       1.0      1.0       1.0  2204.0       NaN       1.0     NaN   \n",
       "3       3.0       2.0      1.0       1.0  2819.0       2.0       2.0     2.0   \n",
       "4       3.0       1.0      2.0       1.0  2437.0       2.0       2.0     2.0   \n",
       "\n",
       "   _TOTINDA  _FRTLT1  ...  _RFDRHV5  HLTHPLN1  MEDCOST  GENHLTH  PHYSHLTH  \\\n",
       "0       2.0      2.0  ...       1.0       1.0      2.0      5.0      15.0   \n",
       "1       1.0      2.0  ...       1.0       2.0      1.0      3.0      88.0   \n",
       "2       9.0      9.0  ...       9.0       1.0      2.0      4.0      15.0   \n",
       "3       2.0      1.0  ...       1.0       1.0      1.0      5.0      30.0   \n",
       "4       2.0      9.0  ...       1.0       1.0      2.0      5.0      20.0   \n",
       "\n",
       "   DIFFWALK  SEX  _PRACE1  _AGEG5YR  INCOME2  \n",
       "0       1.0  2.0      1.0       9.0      3.0  \n",
       "1       2.0  2.0      1.0       7.0      1.0  \n",
       "2       NaN  2.0      1.0      11.0     99.0  \n",
       "3       1.0  2.0      1.0       9.0      8.0  \n",
       "4       2.0  2.0      1.0       9.0     77.0  \n",
       "\n",
       "[5 rows x 21 columns]"
      ]
     },
     "execution_count": 99,
     "metadata": {},
     "output_type": "execute_result"
    }
   ],
   "source": [
    "df_selected.head()"
   ]
  },
  {
   "cell_type": "code",
   "execution_count": 100,
   "id": "0581ad9b",
   "metadata": {},
   "outputs": [
    {
     "data": {
      "text/html": [
       "<div>\n",
       "<style scoped>\n",
       "    .dataframe tbody tr th:only-of-type {\n",
       "        vertical-align: middle;\n",
       "    }\n",
       "\n",
       "    .dataframe tbody tr th {\n",
       "        vertical-align: top;\n",
       "    }\n",
       "\n",
       "    .dataframe thead th {\n",
       "        text-align: right;\n",
       "    }\n",
       "</style>\n",
       "<table border=\"1\" class=\"dataframe\">\n",
       "  <thead>\n",
       "    <tr style=\"text-align: right;\">\n",
       "      <th></th>\n",
       "      <th>DIABETE3</th>\n",
       "      <th>_RFHYPE5</th>\n",
       "      <th>TOLDHI2</th>\n",
       "      <th>_CHOLCHK</th>\n",
       "      <th>_BMI5</th>\n",
       "      <th>SMOKE100</th>\n",
       "      <th>CVDSTRK3</th>\n",
       "      <th>_MICHD</th>\n",
       "      <th>_TOTINDA</th>\n",
       "      <th>_FRTLT1</th>\n",
       "      <th>...</th>\n",
       "      <th>_RFDRHV5</th>\n",
       "      <th>HLTHPLN1</th>\n",
       "      <th>MEDCOST</th>\n",
       "      <th>GENHLTH</th>\n",
       "      <th>PHYSHLTH</th>\n",
       "      <th>DIFFWALK</th>\n",
       "      <th>SEX</th>\n",
       "      <th>_PRACE1</th>\n",
       "      <th>_AGEG5YR</th>\n",
       "      <th>INCOME2</th>\n",
       "    </tr>\n",
       "  </thead>\n",
       "  <tbody>\n",
       "    <tr>\n",
       "      <th>441436</th>\n",
       "      <td>1.0</td>\n",
       "      <td>2.0</td>\n",
       "      <td>1.0</td>\n",
       "      <td>1.0</td>\n",
       "      <td>2489.0</td>\n",
       "      <td>2.0</td>\n",
       "      <td>2.0</td>\n",
       "      <td>1.0</td>\n",
       "      <td>2.0</td>\n",
       "      <td>1.0</td>\n",
       "      <td>...</td>\n",
       "      <td>1.0</td>\n",
       "      <td>1.0</td>\n",
       "      <td>2.0</td>\n",
       "      <td>5.0</td>\n",
       "      <td>88.0</td>\n",
       "      <td>1.0</td>\n",
       "      <td>2.0</td>\n",
       "      <td>1.0</td>\n",
       "      <td>13.0</td>\n",
       "      <td>4.0</td>\n",
       "    </tr>\n",
       "    <tr>\n",
       "      <th>441437</th>\n",
       "      <td>3.0</td>\n",
       "      <td>1.0</td>\n",
       "      <td>1.0</td>\n",
       "      <td>1.0</td>\n",
       "      <td>2468.0</td>\n",
       "      <td>2.0</td>\n",
       "      <td>2.0</td>\n",
       "      <td>2.0</td>\n",
       "      <td>1.0</td>\n",
       "      <td>2.0</td>\n",
       "      <td>...</td>\n",
       "      <td>1.0</td>\n",
       "      <td>1.0</td>\n",
       "      <td>2.0</td>\n",
       "      <td>1.0</td>\n",
       "      <td>88.0</td>\n",
       "      <td>2.0</td>\n",
       "      <td>1.0</td>\n",
       "      <td>2.0</td>\n",
       "      <td>6.0</td>\n",
       "      <td>99.0</td>\n",
       "    </tr>\n",
       "    <tr>\n",
       "      <th>441438</th>\n",
       "      <td>3.0</td>\n",
       "      <td>1.0</td>\n",
       "      <td>NaN</td>\n",
       "      <td>3.0</td>\n",
       "      <td>1785.0</td>\n",
       "      <td>2.0</td>\n",
       "      <td>2.0</td>\n",
       "      <td>2.0</td>\n",
       "      <td>1.0</td>\n",
       "      <td>2.0</td>\n",
       "      <td>...</td>\n",
       "      <td>1.0</td>\n",
       "      <td>1.0</td>\n",
       "      <td>2.0</td>\n",
       "      <td>3.0</td>\n",
       "      <td>4.0</td>\n",
       "      <td>2.0</td>\n",
       "      <td>2.0</td>\n",
       "      <td>1.0</td>\n",
       "      <td>1.0</td>\n",
       "      <td>77.0</td>\n",
       "    </tr>\n",
       "    <tr>\n",
       "      <th>441439</th>\n",
       "      <td>1.0</td>\n",
       "      <td>2.0</td>\n",
       "      <td>1.0</td>\n",
       "      <td>1.0</td>\n",
       "      <td>2539.0</td>\n",
       "      <td>2.0</td>\n",
       "      <td>2.0</td>\n",
       "      <td>2.0</td>\n",
       "      <td>2.0</td>\n",
       "      <td>2.0</td>\n",
       "      <td>...</td>\n",
       "      <td>1.0</td>\n",
       "      <td>1.0</td>\n",
       "      <td>2.0</td>\n",
       "      <td>3.0</td>\n",
       "      <td>88.0</td>\n",
       "      <td>2.0</td>\n",
       "      <td>2.0</td>\n",
       "      <td>1.0</td>\n",
       "      <td>11.0</td>\n",
       "      <td>77.0</td>\n",
       "    </tr>\n",
       "    <tr>\n",
       "      <th>441440</th>\n",
       "      <td>3.0</td>\n",
       "      <td>1.0</td>\n",
       "      <td>NaN</td>\n",
       "      <td>3.0</td>\n",
       "      <td>2403.0</td>\n",
       "      <td>1.0</td>\n",
       "      <td>2.0</td>\n",
       "      <td>2.0</td>\n",
       "      <td>2.0</td>\n",
       "      <td>2.0</td>\n",
       "      <td>...</td>\n",
       "      <td>2.0</td>\n",
       "      <td>2.0</td>\n",
       "      <td>2.0</td>\n",
       "      <td>2.0</td>\n",
       "      <td>88.0</td>\n",
       "      <td>2.0</td>\n",
       "      <td>1.0</td>\n",
       "      <td>1.0</td>\n",
       "      <td>9.0</td>\n",
       "      <td>1.0</td>\n",
       "    </tr>\n",
       "    <tr>\n",
       "      <th>441441</th>\n",
       "      <td>3.0</td>\n",
       "      <td>2.0</td>\n",
       "      <td>2.0</td>\n",
       "      <td>1.0</td>\n",
       "      <td>3119.0</td>\n",
       "      <td>2.0</td>\n",
       "      <td>2.0</td>\n",
       "      <td>2.0</td>\n",
       "      <td>2.0</td>\n",
       "      <td>2.0</td>\n",
       "      <td>...</td>\n",
       "      <td>1.0</td>\n",
       "      <td>1.0</td>\n",
       "      <td>2.0</td>\n",
       "      <td>4.0</td>\n",
       "      <td>30.0</td>\n",
       "      <td>1.0</td>\n",
       "      <td>1.0</td>\n",
       "      <td>1.0</td>\n",
       "      <td>9.0</td>\n",
       "      <td>3.0</td>\n",
       "    </tr>\n",
       "    <tr>\n",
       "      <th>441442</th>\n",
       "      <td>3.0</td>\n",
       "      <td>2.0</td>\n",
       "      <td>1.0</td>\n",
       "      <td>1.0</td>\n",
       "      <td>2340.0</td>\n",
       "      <td>2.0</td>\n",
       "      <td>1.0</td>\n",
       "      <td>1.0</td>\n",
       "      <td>2.0</td>\n",
       "      <td>2.0</td>\n",
       "      <td>...</td>\n",
       "      <td>1.0</td>\n",
       "      <td>1.0</td>\n",
       "      <td>1.0</td>\n",
       "      <td>4.0</td>\n",
       "      <td>5.0</td>\n",
       "      <td>2.0</td>\n",
       "      <td>1.0</td>\n",
       "      <td>6.0</td>\n",
       "      <td>8.0</td>\n",
       "      <td>2.0</td>\n",
       "    </tr>\n",
       "    <tr>\n",
       "      <th>441443</th>\n",
       "      <td>3.0</td>\n",
       "      <td>1.0</td>\n",
       "      <td>NaN</td>\n",
       "      <td>3.0</td>\n",
       "      <td>2303.0</td>\n",
       "      <td>1.0</td>\n",
       "      <td>2.0</td>\n",
       "      <td>2.0</td>\n",
       "      <td>1.0</td>\n",
       "      <td>2.0</td>\n",
       "      <td>...</td>\n",
       "      <td>1.0</td>\n",
       "      <td>1.0</td>\n",
       "      <td>1.0</td>\n",
       "      <td>3.0</td>\n",
       "      <td>88.0</td>\n",
       "      <td>2.0</td>\n",
       "      <td>2.0</td>\n",
       "      <td>1.0</td>\n",
       "      <td>3.0</td>\n",
       "      <td>2.0</td>\n",
       "    </tr>\n",
       "    <tr>\n",
       "      <th>441444</th>\n",
       "      <td>3.0</td>\n",
       "      <td>1.0</td>\n",
       "      <td>NaN</td>\n",
       "      <td>3.0</td>\n",
       "      <td>NaN</td>\n",
       "      <td>2.0</td>\n",
       "      <td>2.0</td>\n",
       "      <td>2.0</td>\n",
       "      <td>1.0</td>\n",
       "      <td>2.0</td>\n",
       "      <td>...</td>\n",
       "      <td>1.0</td>\n",
       "      <td>1.0</td>\n",
       "      <td>2.0</td>\n",
       "      <td>1.0</td>\n",
       "      <td>2.0</td>\n",
       "      <td>2.0</td>\n",
       "      <td>1.0</td>\n",
       "      <td>2.0</td>\n",
       "      <td>1.0</td>\n",
       "      <td>6.0</td>\n",
       "    </tr>\n",
       "    <tr>\n",
       "      <th>441445</th>\n",
       "      <td>3.0</td>\n",
       "      <td>1.0</td>\n",
       "      <td>2.0</td>\n",
       "      <td>1.0</td>\n",
       "      <td>2750.0</td>\n",
       "      <td>2.0</td>\n",
       "      <td>2.0</td>\n",
       "      <td>2.0</td>\n",
       "      <td>1.0</td>\n",
       "      <td>2.0</td>\n",
       "      <td>...</td>\n",
       "      <td>1.0</td>\n",
       "      <td>1.0</td>\n",
       "      <td>2.0</td>\n",
       "      <td>3.0</td>\n",
       "      <td>88.0</td>\n",
       "      <td>2.0</td>\n",
       "      <td>1.0</td>\n",
       "      <td>1.0</td>\n",
       "      <td>10.0</td>\n",
       "      <td>77.0</td>\n",
       "    </tr>\n",
       "    <tr>\n",
       "      <th>441446</th>\n",
       "      <td>3.0</td>\n",
       "      <td>2.0</td>\n",
       "      <td>2.0</td>\n",
       "      <td>1.0</td>\n",
       "      <td>2953.0</td>\n",
       "      <td>1.0</td>\n",
       "      <td>2.0</td>\n",
       "      <td>1.0</td>\n",
       "      <td>1.0</td>\n",
       "      <td>1.0</td>\n",
       "      <td>...</td>\n",
       "      <td>1.0</td>\n",
       "      <td>1.0</td>\n",
       "      <td>2.0</td>\n",
       "      <td>3.0</td>\n",
       "      <td>88.0</td>\n",
       "      <td>2.0</td>\n",
       "      <td>1.0</td>\n",
       "      <td>1.0</td>\n",
       "      <td>12.0</td>\n",
       "      <td>1.0</td>\n",
       "    </tr>\n",
       "    <tr>\n",
       "      <th>441447</th>\n",
       "      <td>3.0</td>\n",
       "      <td>1.0</td>\n",
       "      <td>1.0</td>\n",
       "      <td>1.0</td>\n",
       "      <td>3054.0</td>\n",
       "      <td>1.0</td>\n",
       "      <td>2.0</td>\n",
       "      <td>1.0</td>\n",
       "      <td>2.0</td>\n",
       "      <td>9.0</td>\n",
       "      <td>...</td>\n",
       "      <td>1.0</td>\n",
       "      <td>1.0</td>\n",
       "      <td>2.0</td>\n",
       "      <td>4.0</td>\n",
       "      <td>88.0</td>\n",
       "      <td>1.0</td>\n",
       "      <td>1.0</td>\n",
       "      <td>1.0</td>\n",
       "      <td>6.0</td>\n",
       "      <td>1.0</td>\n",
       "    </tr>\n",
       "    <tr>\n",
       "      <th>441448</th>\n",
       "      <td>3.0</td>\n",
       "      <td>2.0</td>\n",
       "      <td>2.0</td>\n",
       "      <td>1.0</td>\n",
       "      <td>4229.0</td>\n",
       "      <td>2.0</td>\n",
       "      <td>2.0</td>\n",
       "      <td>2.0</td>\n",
       "      <td>1.0</td>\n",
       "      <td>1.0</td>\n",
       "      <td>...</td>\n",
       "      <td>1.0</td>\n",
       "      <td>1.0</td>\n",
       "      <td>2.0</td>\n",
       "      <td>3.0</td>\n",
       "      <td>4.0</td>\n",
       "      <td>2.0</td>\n",
       "      <td>1.0</td>\n",
       "      <td>1.0</td>\n",
       "      <td>3.0</td>\n",
       "      <td>8.0</td>\n",
       "    </tr>\n",
       "    <tr>\n",
       "      <th>441449</th>\n",
       "      <td>3.0</td>\n",
       "      <td>1.0</td>\n",
       "      <td>2.0</td>\n",
       "      <td>1.0</td>\n",
       "      <td>2744.0</td>\n",
       "      <td>2.0</td>\n",
       "      <td>2.0</td>\n",
       "      <td>2.0</td>\n",
       "      <td>2.0</td>\n",
       "      <td>2.0</td>\n",
       "      <td>...</td>\n",
       "      <td>1.0</td>\n",
       "      <td>1.0</td>\n",
       "      <td>2.0</td>\n",
       "      <td>1.0</td>\n",
       "      <td>88.0</td>\n",
       "      <td>2.0</td>\n",
       "      <td>2.0</td>\n",
       "      <td>6.0</td>\n",
       "      <td>3.0</td>\n",
       "      <td>5.0</td>\n",
       "    </tr>\n",
       "    <tr>\n",
       "      <th>441450</th>\n",
       "      <td>3.0</td>\n",
       "      <td>2.0</td>\n",
       "      <td>1.0</td>\n",
       "      <td>1.0</td>\n",
       "      <td>4500.0</td>\n",
       "      <td>2.0</td>\n",
       "      <td>2.0</td>\n",
       "      <td>2.0</td>\n",
       "      <td>2.0</td>\n",
       "      <td>1.0</td>\n",
       "      <td>...</td>\n",
       "      <td>1.0</td>\n",
       "      <td>1.0</td>\n",
       "      <td>2.0</td>\n",
       "      <td>3.0</td>\n",
       "      <td>5.0</td>\n",
       "      <td>2.0</td>\n",
       "      <td>1.0</td>\n",
       "      <td>6.0</td>\n",
       "      <td>5.0</td>\n",
       "      <td>7.0</td>\n",
       "    </tr>\n",
       "    <tr>\n",
       "      <th>441451</th>\n",
       "      <td>1.0</td>\n",
       "      <td>2.0</td>\n",
       "      <td>1.0</td>\n",
       "      <td>1.0</td>\n",
       "      <td>1842.0</td>\n",
       "      <td>2.0</td>\n",
       "      <td>2.0</td>\n",
       "      <td>2.0</td>\n",
       "      <td>2.0</td>\n",
       "      <td>2.0</td>\n",
       "      <td>...</td>\n",
       "      <td>1.0</td>\n",
       "      <td>1.0</td>\n",
       "      <td>2.0</td>\n",
       "      <td>4.0</td>\n",
       "      <td>88.0</td>\n",
       "      <td>1.0</td>\n",
       "      <td>2.0</td>\n",
       "      <td>6.0</td>\n",
       "      <td>11.0</td>\n",
       "      <td>4.0</td>\n",
       "    </tr>\n",
       "    <tr>\n",
       "      <th>441452</th>\n",
       "      <td>3.0</td>\n",
       "      <td>1.0</td>\n",
       "      <td>2.0</td>\n",
       "      <td>1.0</td>\n",
       "      <td>2834.0</td>\n",
       "      <td>2.0</td>\n",
       "      <td>2.0</td>\n",
       "      <td>2.0</td>\n",
       "      <td>1.0</td>\n",
       "      <td>1.0</td>\n",
       "      <td>...</td>\n",
       "      <td>1.0</td>\n",
       "      <td>1.0</td>\n",
       "      <td>2.0</td>\n",
       "      <td>1.0</td>\n",
       "      <td>88.0</td>\n",
       "      <td>2.0</td>\n",
       "      <td>2.0</td>\n",
       "      <td>6.0</td>\n",
       "      <td>2.0</td>\n",
       "      <td>2.0</td>\n",
       "    </tr>\n",
       "    <tr>\n",
       "      <th>441453</th>\n",
       "      <td>3.0</td>\n",
       "      <td>2.0</td>\n",
       "      <td>1.0</td>\n",
       "      <td>1.0</td>\n",
       "      <td>4110.0</td>\n",
       "      <td>1.0</td>\n",
       "      <td>2.0</td>\n",
       "      <td>2.0</td>\n",
       "      <td>9.0</td>\n",
       "      <td>9.0</td>\n",
       "      <td>...</td>\n",
       "      <td>1.0</td>\n",
       "      <td>1.0</td>\n",
       "      <td>2.0</td>\n",
       "      <td>4.0</td>\n",
       "      <td>88.0</td>\n",
       "      <td>2.0</td>\n",
       "      <td>2.0</td>\n",
       "      <td>1.0</td>\n",
       "      <td>11.0</td>\n",
       "      <td>5.0</td>\n",
       "    </tr>\n",
       "    <tr>\n",
       "      <th>441454</th>\n",
       "      <td>3.0</td>\n",
       "      <td>2.0</td>\n",
       "      <td>2.0</td>\n",
       "      <td>1.0</td>\n",
       "      <td>2315.0</td>\n",
       "      <td>2.0</td>\n",
       "      <td>2.0</td>\n",
       "      <td>2.0</td>\n",
       "      <td>2.0</td>\n",
       "      <td>1.0</td>\n",
       "      <td>...</td>\n",
       "      <td>1.0</td>\n",
       "      <td>1.0</td>\n",
       "      <td>2.0</td>\n",
       "      <td>3.0</td>\n",
       "      <td>88.0</td>\n",
       "      <td>2.0</td>\n",
       "      <td>1.0</td>\n",
       "      <td>6.0</td>\n",
       "      <td>7.0</td>\n",
       "      <td>1.0</td>\n",
       "    </tr>\n",
       "    <tr>\n",
       "      <th>441455</th>\n",
       "      <td>1.0</td>\n",
       "      <td>2.0</td>\n",
       "      <td>1.0</td>\n",
       "      <td>1.0</td>\n",
       "      <td>2469.0</td>\n",
       "      <td>2.0</td>\n",
       "      <td>2.0</td>\n",
       "      <td>1.0</td>\n",
       "      <td>1.0</td>\n",
       "      <td>1.0</td>\n",
       "      <td>...</td>\n",
       "      <td>1.0</td>\n",
       "      <td>1.0</td>\n",
       "      <td>2.0</td>\n",
       "      <td>2.0</td>\n",
       "      <td>88.0</td>\n",
       "      <td>2.0</td>\n",
       "      <td>2.0</td>\n",
       "      <td>1.0</td>\n",
       "      <td>9.0</td>\n",
       "      <td>2.0</td>\n",
       "    </tr>\n",
       "  </tbody>\n",
       "</table>\n",
       "<p>20 rows × 21 columns</p>\n",
       "</div>"
      ],
      "text/plain": [
       "        DIABETE3  _RFHYPE5  TOLDHI2  _CHOLCHK   _BMI5  SMOKE100  CVDSTRK3  \\\n",
       "441436       1.0       2.0      1.0       1.0  2489.0       2.0       2.0   \n",
       "441437       3.0       1.0      1.0       1.0  2468.0       2.0       2.0   \n",
       "441438       3.0       1.0      NaN       3.0  1785.0       2.0       2.0   \n",
       "441439       1.0       2.0      1.0       1.0  2539.0       2.0       2.0   \n",
       "441440       3.0       1.0      NaN       3.0  2403.0       1.0       2.0   \n",
       "441441       3.0       2.0      2.0       1.0  3119.0       2.0       2.0   \n",
       "441442       3.0       2.0      1.0       1.0  2340.0       2.0       1.0   \n",
       "441443       3.0       1.0      NaN       3.0  2303.0       1.0       2.0   \n",
       "441444       3.0       1.0      NaN       3.0     NaN       2.0       2.0   \n",
       "441445       3.0       1.0      2.0       1.0  2750.0       2.0       2.0   \n",
       "441446       3.0       2.0      2.0       1.0  2953.0       1.0       2.0   \n",
       "441447       3.0       1.0      1.0       1.0  3054.0       1.0       2.0   \n",
       "441448       3.0       2.0      2.0       1.0  4229.0       2.0       2.0   \n",
       "441449       3.0       1.0      2.0       1.0  2744.0       2.0       2.0   \n",
       "441450       3.0       2.0      1.0       1.0  4500.0       2.0       2.0   \n",
       "441451       1.0       2.0      1.0       1.0  1842.0       2.0       2.0   \n",
       "441452       3.0       1.0      2.0       1.0  2834.0       2.0       2.0   \n",
       "441453       3.0       2.0      1.0       1.0  4110.0       1.0       2.0   \n",
       "441454       3.0       2.0      2.0       1.0  2315.0       2.0       2.0   \n",
       "441455       1.0       2.0      1.0       1.0  2469.0       2.0       2.0   \n",
       "\n",
       "        _MICHD  _TOTINDA  _FRTLT1  ...  _RFDRHV5  HLTHPLN1  MEDCOST  GENHLTH  \\\n",
       "441436     1.0       2.0      1.0  ...       1.0       1.0      2.0      5.0   \n",
       "441437     2.0       1.0      2.0  ...       1.0       1.0      2.0      1.0   \n",
       "441438     2.0       1.0      2.0  ...       1.0       1.0      2.0      3.0   \n",
       "441439     2.0       2.0      2.0  ...       1.0       1.0      2.0      3.0   \n",
       "441440     2.0       2.0      2.0  ...       2.0       2.0      2.0      2.0   \n",
       "441441     2.0       2.0      2.0  ...       1.0       1.0      2.0      4.0   \n",
       "441442     1.0       2.0      2.0  ...       1.0       1.0      1.0      4.0   \n",
       "441443     2.0       1.0      2.0  ...       1.0       1.0      1.0      3.0   \n",
       "441444     2.0       1.0      2.0  ...       1.0       1.0      2.0      1.0   \n",
       "441445     2.0       1.0      2.0  ...       1.0       1.0      2.0      3.0   \n",
       "441446     1.0       1.0      1.0  ...       1.0       1.0      2.0      3.0   \n",
       "441447     1.0       2.0      9.0  ...       1.0       1.0      2.0      4.0   \n",
       "441448     2.0       1.0      1.0  ...       1.0       1.0      2.0      3.0   \n",
       "441449     2.0       2.0      2.0  ...       1.0       1.0      2.0      1.0   \n",
       "441450     2.0       2.0      1.0  ...       1.0       1.0      2.0      3.0   \n",
       "441451     2.0       2.0      2.0  ...       1.0       1.0      2.0      4.0   \n",
       "441452     2.0       1.0      1.0  ...       1.0       1.0      2.0      1.0   \n",
       "441453     2.0       9.0      9.0  ...       1.0       1.0      2.0      4.0   \n",
       "441454     2.0       2.0      1.0  ...       1.0       1.0      2.0      3.0   \n",
       "441455     1.0       1.0      1.0  ...       1.0       1.0      2.0      2.0   \n",
       "\n",
       "        PHYSHLTH  DIFFWALK  SEX  _PRACE1  _AGEG5YR  INCOME2  \n",
       "441436      88.0       1.0  2.0      1.0      13.0      4.0  \n",
       "441437      88.0       2.0  1.0      2.0       6.0     99.0  \n",
       "441438       4.0       2.0  2.0      1.0       1.0     77.0  \n",
       "441439      88.0       2.0  2.0      1.0      11.0     77.0  \n",
       "441440      88.0       2.0  1.0      1.0       9.0      1.0  \n",
       "441441      30.0       1.0  1.0      1.0       9.0      3.0  \n",
       "441442       5.0       2.0  1.0      6.0       8.0      2.0  \n",
       "441443      88.0       2.0  2.0      1.0       3.0      2.0  \n",
       "441444       2.0       2.0  1.0      2.0       1.0      6.0  \n",
       "441445      88.0       2.0  1.0      1.0      10.0     77.0  \n",
       "441446      88.0       2.0  1.0      1.0      12.0      1.0  \n",
       "441447      88.0       1.0  1.0      1.0       6.0      1.0  \n",
       "441448       4.0       2.0  1.0      1.0       3.0      8.0  \n",
       "441449      88.0       2.0  2.0      6.0       3.0      5.0  \n",
       "441450       5.0       2.0  1.0      6.0       5.0      7.0  \n",
       "441451      88.0       1.0  2.0      6.0      11.0      4.0  \n",
       "441452      88.0       2.0  2.0      6.0       2.0      2.0  \n",
       "441453      88.0       2.0  2.0      1.0      11.0      5.0  \n",
       "441454      88.0       2.0  1.0      6.0       7.0      1.0  \n",
       "441455      88.0       2.0  2.0      1.0       9.0      2.0  \n",
       "\n",
       "[20 rows x 21 columns]"
      ]
     },
     "execution_count": 100,
     "metadata": {},
     "output_type": "execute_result"
    }
   ],
   "source": [
    "df_selected.tail(20)"
   ]
  },
  {
   "cell_type": "code",
   "execution_count": 101,
   "id": "6b5cfa82",
   "metadata": {},
   "outputs": [
    {
     "data": {
      "text/plain": [
       "DIABETE3        7\n",
       "_RFHYPE5        0\n",
       "TOLDHI2     59154\n",
       "_CHOLCHK        0\n",
       "_BMI5       36398\n",
       "SMOKE100    14255\n",
       "CVDSTRK3        0\n",
       "_MICHD       3942\n",
       "_TOTINDA        0\n",
       "_FRTLT1         0\n",
       "_VEGLT1         0\n",
       "_RFDRHV5        0\n",
       "HLTHPLN1        0\n",
       "MEDCOST         1\n",
       "GENHLTH         2\n",
       "PHYSHLTH        1\n",
       "DIFFWALK    12334\n",
       "SEX             0\n",
       "_PRACE1         0\n",
       "_AGEG5YR        0\n",
       "INCOME2      3301\n",
       "dtype: int64"
      ]
     },
     "execution_count": 101,
     "metadata": {},
     "output_type": "execute_result"
    }
   ],
   "source": [
    "df_selected.isnull().sum()"
   ]
  },
  {
   "cell_type": "code",
   "execution_count": 102,
   "id": "118e7b4a",
   "metadata": {},
   "outputs": [
    {
     "data": {
      "text/plain": [
       "DIABETE3     0.001586\n",
       "_RFHYPE5     0.000000\n",
       "TOLDHI2     13.399750\n",
       "_CHOLCHK     0.000000\n",
       "_BMI5        8.244989\n",
       "SMOKE100     3.229087\n",
       "CVDSTRK3     0.000000\n",
       "_MICHD       0.892954\n",
       "_TOTINDA     0.000000\n",
       "_FRTLT1      0.000000\n",
       "_VEGLT1      0.000000\n",
       "_RFDRHV5     0.000000\n",
       "HLTHPLN1     0.000000\n",
       "MEDCOST      0.000227\n",
       "GENHLTH      0.000453\n",
       "PHYSHLTH     0.000227\n",
       "DIFFWALK     2.793936\n",
       "SEX          0.000000\n",
       "_PRACE1      0.000000\n",
       "_AGEG5YR     0.000000\n",
       "INCOME2      0.747753\n",
       "dtype: float64"
      ]
     },
     "execution_count": 102,
     "metadata": {},
     "output_type": "execute_result"
    }
   ],
   "source": [
    "#percentage of missing values\n",
    "(df_selected.isnull().sum() / len(df_selected)) * 100"
   ]
  },
  {
   "cell_type": "markdown",
   "id": "1ab6b4c8",
   "metadata": {},
   "source": [
    "### insight\n",
    "\n",
    "from this we can see that the columns that have missing values of concern are:\n",
    "- TOLDHI2\n",
    "- _BMI5\n",
    "\n",
    "These two columns have the percntage of data that's missing to be above 5%.\n",
    "\n",
    "For TOLDHI2, which is a categorical column, we will create another category 'Missing' and fill its with it.\n",
    "\n",
    "For _BMI5, a numerical column, check below\n",
    "\n",
    "For the rest we can afford to drop the rows as they're percentages are below 5% which is manageable"
   ]
  },
  {
   "cell_type": "code",
   "execution_count": 103,
   "id": "5861d761",
   "metadata": {},
   "outputs": [
    {
     "name": "stdout",
     "output_type": "stream",
     "text": [
      "Skewness of _BMI5: 2.24\n"
     ]
    }
   ],
   "source": [
    "skew_bmi = df_selected['_BMI5'].skew()\n",
    "print(f\"Skewness of _BMI5: {skew_bmi:.2f}\")"
   ]
  },
  {
   "cell_type": "markdown",
   "id": "c4529a2f",
   "metadata": {},
   "source": [
    "The BMI column is a numerical column which can be handled by imputation. Since the skewness, which is at 2.24 is >1, we can therefore conclude that imputing with means would be ideal"
   ]
  },
  {
   "cell_type": "markdown",
   "id": "b2aa10ed",
   "metadata": {},
   "source": [
    "### Data Cleaning\n"
   ]
  },
  {
   "cell_type": "markdown",
   "id": "46845d91",
   "metadata": {},
   "source": [
    "before we get into the specifics let's first deal with the values in the dataset"
   ]
  },
  {
   "cell_type": "code",
   "execution_count": 104,
   "id": "60d794a5",
   "metadata": {},
   "outputs": [
    {
     "data": {
      "text/html": [
       "<div>\n",
       "<style scoped>\n",
       "    .dataframe tbody tr th:only-of-type {\n",
       "        vertical-align: middle;\n",
       "    }\n",
       "\n",
       "    .dataframe tbody tr th {\n",
       "        vertical-align: top;\n",
       "    }\n",
       "\n",
       "    .dataframe thead th {\n",
       "        text-align: right;\n",
       "    }\n",
       "</style>\n",
       "<table border=\"1\" class=\"dataframe\">\n",
       "  <thead>\n",
       "    <tr style=\"text-align: right;\">\n",
       "      <th></th>\n",
       "      <th>DIABETE3</th>\n",
       "      <th>_RFHYPE5</th>\n",
       "      <th>TOLDHI2</th>\n",
       "      <th>_CHOLCHK</th>\n",
       "      <th>_BMI5</th>\n",
       "      <th>SMOKE100</th>\n",
       "      <th>CVDSTRK3</th>\n",
       "      <th>_MICHD</th>\n",
       "      <th>_TOTINDA</th>\n",
       "      <th>_FRTLT1</th>\n",
       "      <th>...</th>\n",
       "      <th>_RFDRHV5</th>\n",
       "      <th>HLTHPLN1</th>\n",
       "      <th>MEDCOST</th>\n",
       "      <th>GENHLTH</th>\n",
       "      <th>PHYSHLTH</th>\n",
       "      <th>DIFFWALK</th>\n",
       "      <th>SEX</th>\n",
       "      <th>_PRACE1</th>\n",
       "      <th>_AGEG5YR</th>\n",
       "      <th>INCOME2</th>\n",
       "    </tr>\n",
       "  </thead>\n",
       "  <tbody>\n",
       "    <tr>\n",
       "      <th>441451</th>\n",
       "      <td>1.0</td>\n",
       "      <td>2.0</td>\n",
       "      <td>1.0</td>\n",
       "      <td>1.0</td>\n",
       "      <td>1842.0</td>\n",
       "      <td>2.0</td>\n",
       "      <td>2.0</td>\n",
       "      <td>2.0</td>\n",
       "      <td>2.0</td>\n",
       "      <td>2.0</td>\n",
       "      <td>...</td>\n",
       "      <td>1.0</td>\n",
       "      <td>1.0</td>\n",
       "      <td>2.0</td>\n",
       "      <td>4.0</td>\n",
       "      <td>88.0</td>\n",
       "      <td>1.0</td>\n",
       "      <td>2.0</td>\n",
       "      <td>6.0</td>\n",
       "      <td>11.0</td>\n",
       "      <td>4.0</td>\n",
       "    </tr>\n",
       "    <tr>\n",
       "      <th>441452</th>\n",
       "      <td>3.0</td>\n",
       "      <td>1.0</td>\n",
       "      <td>2.0</td>\n",
       "      <td>1.0</td>\n",
       "      <td>2834.0</td>\n",
       "      <td>2.0</td>\n",
       "      <td>2.0</td>\n",
       "      <td>2.0</td>\n",
       "      <td>1.0</td>\n",
       "      <td>1.0</td>\n",
       "      <td>...</td>\n",
       "      <td>1.0</td>\n",
       "      <td>1.0</td>\n",
       "      <td>2.0</td>\n",
       "      <td>1.0</td>\n",
       "      <td>88.0</td>\n",
       "      <td>2.0</td>\n",
       "      <td>2.0</td>\n",
       "      <td>6.0</td>\n",
       "      <td>2.0</td>\n",
       "      <td>2.0</td>\n",
       "    </tr>\n",
       "    <tr>\n",
       "      <th>441453</th>\n",
       "      <td>3.0</td>\n",
       "      <td>2.0</td>\n",
       "      <td>1.0</td>\n",
       "      <td>1.0</td>\n",
       "      <td>4110.0</td>\n",
       "      <td>1.0</td>\n",
       "      <td>2.0</td>\n",
       "      <td>2.0</td>\n",
       "      <td>9.0</td>\n",
       "      <td>9.0</td>\n",
       "      <td>...</td>\n",
       "      <td>1.0</td>\n",
       "      <td>1.0</td>\n",
       "      <td>2.0</td>\n",
       "      <td>4.0</td>\n",
       "      <td>88.0</td>\n",
       "      <td>2.0</td>\n",
       "      <td>2.0</td>\n",
       "      <td>1.0</td>\n",
       "      <td>11.0</td>\n",
       "      <td>5.0</td>\n",
       "    </tr>\n",
       "    <tr>\n",
       "      <th>441454</th>\n",
       "      <td>3.0</td>\n",
       "      <td>2.0</td>\n",
       "      <td>2.0</td>\n",
       "      <td>1.0</td>\n",
       "      <td>2315.0</td>\n",
       "      <td>2.0</td>\n",
       "      <td>2.0</td>\n",
       "      <td>2.0</td>\n",
       "      <td>2.0</td>\n",
       "      <td>1.0</td>\n",
       "      <td>...</td>\n",
       "      <td>1.0</td>\n",
       "      <td>1.0</td>\n",
       "      <td>2.0</td>\n",
       "      <td>3.0</td>\n",
       "      <td>88.0</td>\n",
       "      <td>2.0</td>\n",
       "      <td>1.0</td>\n",
       "      <td>6.0</td>\n",
       "      <td>7.0</td>\n",
       "      <td>1.0</td>\n",
       "    </tr>\n",
       "    <tr>\n",
       "      <th>441455</th>\n",
       "      <td>1.0</td>\n",
       "      <td>2.0</td>\n",
       "      <td>1.0</td>\n",
       "      <td>1.0</td>\n",
       "      <td>2469.0</td>\n",
       "      <td>2.0</td>\n",
       "      <td>2.0</td>\n",
       "      <td>1.0</td>\n",
       "      <td>1.0</td>\n",
       "      <td>1.0</td>\n",
       "      <td>...</td>\n",
       "      <td>1.0</td>\n",
       "      <td>1.0</td>\n",
       "      <td>2.0</td>\n",
       "      <td>2.0</td>\n",
       "      <td>88.0</td>\n",
       "      <td>2.0</td>\n",
       "      <td>2.0</td>\n",
       "      <td>1.0</td>\n",
       "      <td>9.0</td>\n",
       "      <td>2.0</td>\n",
       "    </tr>\n",
       "  </tbody>\n",
       "</table>\n",
       "<p>5 rows × 21 columns</p>\n",
       "</div>"
      ],
      "text/plain": [
       "        DIABETE3  _RFHYPE5  TOLDHI2  _CHOLCHK   _BMI5  SMOKE100  CVDSTRK3  \\\n",
       "441451       1.0       2.0      1.0       1.0  1842.0       2.0       2.0   \n",
       "441452       3.0       1.0      2.0       1.0  2834.0       2.0       2.0   \n",
       "441453       3.0       2.0      1.0       1.0  4110.0       1.0       2.0   \n",
       "441454       3.0       2.0      2.0       1.0  2315.0       2.0       2.0   \n",
       "441455       1.0       2.0      1.0       1.0  2469.0       2.0       2.0   \n",
       "\n",
       "        _MICHD  _TOTINDA  _FRTLT1  ...  _RFDRHV5  HLTHPLN1  MEDCOST  GENHLTH  \\\n",
       "441451     2.0       2.0      2.0  ...       1.0       1.0      2.0      4.0   \n",
       "441452     2.0       1.0      1.0  ...       1.0       1.0      2.0      1.0   \n",
       "441453     2.0       9.0      9.0  ...       1.0       1.0      2.0      4.0   \n",
       "441454     2.0       2.0      1.0  ...       1.0       1.0      2.0      3.0   \n",
       "441455     1.0       1.0      1.0  ...       1.0       1.0      2.0      2.0   \n",
       "\n",
       "        PHYSHLTH  DIFFWALK  SEX  _PRACE1  _AGEG5YR  INCOME2  \n",
       "441451      88.0       1.0  2.0      6.0      11.0      4.0  \n",
       "441452      88.0       2.0  2.0      6.0       2.0      2.0  \n",
       "441453      88.0       2.0  2.0      1.0      11.0      5.0  \n",
       "441454      88.0       2.0  1.0      6.0       7.0      1.0  \n",
       "441455      88.0       2.0  2.0      1.0       9.0      2.0  \n",
       "\n",
       "[5 rows x 21 columns]"
      ]
     },
     "execution_count": 104,
     "metadata": {},
     "output_type": "execute_result"
    }
   ],
   "source": [
    "df_selected.tail()"
   ]
  },
  {
   "cell_type": "markdown",
   "id": "fea74ba3",
   "metadata": {},
   "source": [
    "### DIABETE3\n",
    "we can now move to the first column\n",
    "\n",
    "let's change the data in that column into ordinal data from 0\n",
    "\n",
    "The responses had:\n",
    "1. Yes\n",
    "2. Yes, but female told only during pregnancy \n",
    "3. No \n",
    "4. No, pre-diabetes or borderline diabetes \n",
    "7. Don’t know/Not Sure \n",
    "9. Refused \n",
    "\n",
    "`BLANK` Not asked or Missing "
   ]
  },
  {
   "cell_type": "code",
   "execution_count": 115,
   "id": "c30e41f4",
   "metadata": {},
   "outputs": [
    {
     "data": {
      "text/plain": [
       "array([ 0.,  2.,  1., nan])"
      ]
     },
     "execution_count": 115,
     "metadata": {},
     "output_type": "execute_result"
    }
   ],
   "source": [
    "# DIABETE3\n",
    "# going to make this ordinal. 0 is for no diabetes, 1 is for only during pregnancy, 2 is for pre-diabetes or borderline diabetes, 3 is for yes diabetes\n",
    "# Remove all 7 (dont knows)\n",
    "# Remove all 9 (refused)\n",
    "df_selected.loc[:, 'DIABETE3'] = df_selected['DIABETE3'].replace({3:0, 2:1, 4:2, 1:2})\n",
    "df_selected = df_selected[df_selected.DIABETE3 != 7]\n",
    "df_selected = df_selected[df_selected.DIABETE3 != 9]\n",
    "df_selected.DIABETE3.unique()"
   ]
  },
  {
   "cell_type": "markdown",
   "id": "3f894238",
   "metadata": {},
   "source": [
    "we can now drop the missing values in DIABETE3 column"
   ]
  },
  {
   "cell_type": "code",
   "execution_count": 116,
   "id": "f99ab093",
   "metadata": {},
   "outputs": [
    {
     "data": {
      "text/plain": [
       "DIABETE3        0\n",
       "_RFHYPE5        0\n",
       "TOLDHI2     58946\n",
       "_CHOLCHK        0\n",
       "_BMI5       36191\n",
       "SMOKE100    14195\n",
       "CVDSTRK3        0\n",
       "_MICHD       3777\n",
       "_TOTINDA        0\n",
       "_FRTLT1         0\n",
       "_VEGLT1         0\n",
       "_RFDRHV5        0\n",
       "HLTHPLN1        0\n",
       "MEDCOST         1\n",
       "GENHLTH         2\n",
       "PHYSHLTH        1\n",
       "DIFFWALK    12289\n",
       "SEX             0\n",
       "_PRACE1         0\n",
       "_AGEG5YR        0\n",
       "INCOME2      3296\n",
       "dtype: int64"
      ]
     },
     "execution_count": 116,
     "metadata": {},
     "output_type": "execute_result"
    }
   ],
   "source": [
    "# drop missing values in DIABETE3 column\n",
    "df_selected = df_selected.dropna(subset=['DIABETE3'])\n",
    "df_selected.isnull().sum()"
   ]
  },
  {
   "cell_type": "markdown",
   "id": "d85c2ca7",
   "metadata": {},
   "source": [
    "### 1. _RFHYPE5\n",
    "\n",
    "Adults who have been told they have high blood pressure by a doctor, nurse, or other health professional \n",
    "\n",
    "1. No \n",
    "2. Yes \n",
    "9. Don’t know/Not Sure/Refused/Missing "
   ]
  },
  {
   "cell_type": "code",
   "execution_count": 117,
   "id": "ce4fc5e6",
   "metadata": {},
   "outputs": [
    {
     "data": {
      "text/plain": [
       "array([1., 0.])"
      ]
     },
     "execution_count": 117,
     "metadata": {},
     "output_type": "execute_result"
    }
   ],
   "source": [
    "#1 _RFHYPE5\n",
    "# Change 1 to 0 so it represents No high blood pressure and 2 to 1 so it represents high blood pressure\n",
    "df_selected.loc[:, '_RFHYPE5'] = df_selected['_RFHYPE5'].replace({1:0, 2:1})\n",
    "df_selected = df_selected[df_selected._RFHYPE5 != 9]\n",
    "df_selected._RFHYPE5.unique()"
   ]
  },
  {
   "cell_type": "markdown",
   "id": "3dd8bd04",
   "metadata": {},
   "source": [
    "### 2. TOLDHI2\n",
    "Have you EVER been told by a doctor, nurse or other health professional that your blood cholesterol is high? \n",
    "\n",
    "1. Yes \n",
    "2. No \n",
    "7. Don’t know/Not Sure \n",
    "9. Refused \n",
    "\n",
    "BLANK: Not asked or Missing \n"
   ]
  },
  {
   "cell_type": "code",
   "execution_count": 118,
   "id": "caa4a1b4",
   "metadata": {},
   "outputs": [
    {
     "data": {
      "text/plain": [
       "array([ 1.,  0., nan])"
      ]
     },
     "execution_count": 118,
     "metadata": {},
     "output_type": "execute_result"
    }
   ],
   "source": [
    "#2 TOLDHI2\n",
    "# Change 2 to 0 because it is No\n",
    "# Remove all 7 (dont knows)\n",
    "# Remove all 9 (refused)\n",
    "df_selected.loc[:,'TOLDHI2'] = df_selected['TOLDHI2'].replace({2:0})\n",
    "df_selected = df_selected[df_selected.TOLDHI2 != 7]\n",
    "df_selected = df_selected[df_selected.TOLDHI2 != 9]\n",
    "df_selected.TOLDHI2.unique()"
   ]
  },
  {
   "cell_type": "markdown",
   "id": "024c311f",
   "metadata": {},
   "source": [
    "remove the missing values"
   ]
  },
  {
   "cell_type": "code",
   "execution_count": 119,
   "id": "c2e4fe6c",
   "metadata": {},
   "outputs": [
    {
     "data": {
      "text/plain": [
       "DIABETE3        0\n",
       "_RFHYPE5        0\n",
       "TOLDHI2         0\n",
       "_CHOLCHK        0\n",
       "_BMI5       29577\n",
       "SMOKE100    11527\n",
       "CVDSTRK3        0\n",
       "_MICHD       3119\n",
       "_TOTINDA        0\n",
       "_FRTLT1         0\n",
       "_VEGLT1         0\n",
       "_RFDRHV5        0\n",
       "HLTHPLN1        0\n",
       "MEDCOST         1\n",
       "GENHLTH         1\n",
       "PHYSHLTH        1\n",
       "DIFFWALK     9943\n",
       "SEX             0\n",
       "_PRACE1         0\n",
       "_AGEG5YR        0\n",
       "INCOME2      2626\n",
       "dtype: int64"
      ]
     },
     "execution_count": 119,
     "metadata": {},
     "output_type": "execute_result"
    }
   ],
   "source": [
    "df_selected = df_selected.dropna(subset=['TOLDHI2'])\n",
    "df_selected.isnull().sum()"
   ]
  },
  {
   "cell_type": "markdown",
   "id": "215a238f",
   "metadata": {},
   "source": [
    "### 3. _CHOLCHK\n",
    "\n",
    "Cholesterol check within past five years \n",
    "\n",
    "1. Had cholesterol checked in past 5 years \n",
    "2. Did not have cholesterol checked in past 5 years \n",
    "3. Have never had cholesterol checked \n",
    "9. Don’t know/Not Sure Or Refused/Missing \n"
   ]
  },
  {
   "cell_type": "code",
   "execution_count": 120,
   "id": "eda79436",
   "metadata": {},
   "outputs": [
    {
     "data": {
      "text/plain": [
       "array([1., 0.])"
      ]
     },
     "execution_count": 120,
     "metadata": {},
     "output_type": "execute_result"
    }
   ],
   "source": [
    "#3 _CHOLCHK\n",
    "# Change 3 to 0 and 2 to 0 for Not checked cholesterol in past 5 years\n",
    "# Remove 9\n",
    "df_selected['_CHOLCHK'] = df_selected['_CHOLCHK'].replace({3:0,2:0})\n",
    "df_selected = df_selected[df_selected._CHOLCHK != 9]\n",
    "df_selected._CHOLCHK.unique()"
   ]
  },
  {
   "cell_type": "markdown",
   "id": "88181242",
   "metadata": {},
   "source": [
    "### 4. _BMI5\n"
   ]
  },
  {
   "cell_type": "code",
   "execution_count": 121,
   "id": "6468130c",
   "metadata": {},
   "outputs": [
    {
     "data": {
      "text/plain": [
       "array([40.18, 25.09, 22.04, ..., 41.59, 14.44, 60.76], shape=(3551,))"
      ]
     },
     "execution_count": 121,
     "metadata": {},
     "output_type": "execute_result"
    }
   ],
   "source": [
    "#4 _BMI5 requires no changes, just  that the BMIs have been multiplied by 100 So for example a BMI of 4018 is really 40.18\n",
    "df_selected['_BMI5'] = df_selected['_BMI5'] .div(100).round(2)\n",
    "df_selected._BMI5.unique()"
   ]
  },
  {
   "cell_type": "code",
   "execution_count": 122,
   "id": "1dfde9b1",
   "metadata": {},
   "outputs": [
    {
     "data": {
      "text/plain": [
       "DIABETE3       0\n",
       "_RFHYPE5       0\n",
       "TOLDHI2        0\n",
       "_CHOLCHK       0\n",
       "_BMI5          0\n",
       "SMOKE100    5152\n",
       "CVDSTRK3       0\n",
       "_MICHD      2759\n",
       "_TOTINDA       0\n",
       "_FRTLT1        0\n",
       "_VEGLT1        0\n",
       "_RFDRHV5       0\n",
       "HLTHPLN1       0\n",
       "MEDCOST        1\n",
       "GENHLTH        1\n",
       "PHYSHLTH       0\n",
       "DIFFWALK    3843\n",
       "SEX            0\n",
       "_PRACE1        0\n",
       "_AGEG5YR       0\n",
       "INCOME2        0\n",
       "dtype: int64"
      ]
     },
     "execution_count": 122,
     "metadata": {},
     "output_type": "execute_result"
    }
   ],
   "source": [
    "df_selected = df_selected.dropna(subset=['_BMI5'])\n",
    "df_selected.isnull().sum()"
   ]
  },
  {
   "cell_type": "markdown",
   "id": "35d54805",
   "metadata": {},
   "source": [
    "### 5. SMOKE100\n",
    "\n",
    "Have you smoked at least 100 cigarettes in your entire life?   [Note:  5 packs = 100 cigarettes] \n",
    "\n",
    "1. Yes  \n",
    "2. No \n",
    "7. Don’t know/Not Sure \n",
    "9. Refused\n",
    "\n",
    "BLANK Not asked or Missing"
   ]
  },
  {
   "cell_type": "code",
   "execution_count": 123,
   "id": "f4d500e1",
   "metadata": {},
   "outputs": [
    {
     "data": {
      "text/plain": [
       "array([ 1., nan,  0.])"
      ]
     },
     "execution_count": 123,
     "metadata": {},
     "output_type": "execute_result"
    }
   ],
   "source": [
    "#5 SMOKE100\n",
    "# Change 2 to 0 because it is No\n",
    "# Remove all 7 (dont knows)\n",
    "# Remove all 9 (refused)\n",
    "df_selected['SMOKE100'] = df_selected['SMOKE100'].replace({2:0})\n",
    "df_selected = df_selected[df_selected.SMOKE100 != 7]\n",
    "df_selected = df_selected[df_selected.SMOKE100 != 9]\n",
    "df_selected.SMOKE100.unique()"
   ]
  },
  {
   "cell_type": "code",
   "execution_count": 124,
   "id": "73015c4e",
   "metadata": {},
   "outputs": [
    {
     "data": {
      "text/plain": [
       "DIABETE3       0\n",
       "_RFHYPE5       0\n",
       "TOLDHI2        0\n",
       "_CHOLCHK       0\n",
       "_BMI5          0\n",
       "SMOKE100       0\n",
       "CVDSTRK3       0\n",
       "_MICHD      2671\n",
       "_TOTINDA       0\n",
       "_FRTLT1        0\n",
       "_VEGLT1        0\n",
       "_RFDRHV5       0\n",
       "HLTHPLN1       0\n",
       "MEDCOST        1\n",
       "GENHLTH        1\n",
       "PHYSHLTH       0\n",
       "DIFFWALK       4\n",
       "SEX            0\n",
       "_PRACE1        0\n",
       "_AGEG5YR       0\n",
       "INCOME2        0\n",
       "dtype: int64"
      ]
     },
     "execution_count": 124,
     "metadata": {},
     "output_type": "execute_result"
    }
   ],
   "source": [
    "df_selected = df_selected.dropna(subset=['SMOKE100'])\n",
    "df_selected.isnull().sum()"
   ]
  },
  {
   "cell_type": "markdown",
   "id": "13041855",
   "metadata": {},
   "source": [
    "### 6. CVDSTRK3\n",
    "\n",
    "(Ever told) you had a stroke.\n",
    "\n",
    "1. Yes 18,269 4.14 3.03 \n",
    "2. No 421,897 95.57 96.73 \n",
    "7. Don’t know/Not sure 1,146 0.26 0.21 \n",
    "9. Refused "
   ]
  },
  {
   "cell_type": "code",
   "execution_count": 125,
   "id": "a0783db3",
   "metadata": {},
   "outputs": [
    {
     "data": {
      "text/plain": [
       "array([0., 1.])"
      ]
     },
     "execution_count": 125,
     "metadata": {},
     "output_type": "execute_result"
    }
   ],
   "source": [
    "#6 CVDSTRK3\n",
    "# Change 2 to 0 because it is No\n",
    "# Remove all 7 (dont knows)\n",
    "# Remove all 9 (refused)\n",
    "df_selected['CVDSTRK3'] = df_selected['CVDSTRK3'].replace({2:0})\n",
    "df_selected = df_selected[df_selected.CVDSTRK3 != 7]\n",
    "df_selected = df_selected[df_selected.CVDSTRK3 != 9]\n",
    "df_selected.CVDSTRK3.unique()"
   ]
  },
  {
   "cell_type": "markdown",
   "id": "f8b0c6f9",
   "metadata": {},
   "source": [
    "### 7. _MICHD\n",
    "\n",
    "Respondents that have ever reported having coronary heart disease (CHD) or myocardial infarction (MI) \n",
    "\n",
    "1. Reported having MI or CHD \n",
    "2. Did not report having MI or CHD \n",
    "\n",
    "BLANK Not asked or Missing \n"
   ]
  },
  {
   "cell_type": "code",
   "execution_count": 126,
   "id": "a1cc7272",
   "metadata": {},
   "outputs": [
    {
     "data": {
      "text/plain": [
       "array([ 0., nan,  1.])"
      ]
     },
     "execution_count": 126,
     "metadata": {},
     "output_type": "execute_result"
    }
   ],
   "source": [
    "#7 _MICHD\n",
    "#Change 2 to 0 because this means did not have MI or CHD\n",
    "df_selected['_MICHD'] = df_selected['_MICHD'].replace({2: 0})\n",
    "df_selected._MICHD.unique()"
   ]
  },
  {
   "cell_type": "code",
   "execution_count": 127,
   "id": "f893974b",
   "metadata": {},
   "outputs": [
    {
     "data": {
      "text/plain": [
       "DIABETE3    0\n",
       "_RFHYPE5    0\n",
       "TOLDHI2     0\n",
       "_CHOLCHK    0\n",
       "_BMI5       0\n",
       "SMOKE100    0\n",
       "CVDSTRK3    0\n",
       "_MICHD      0\n",
       "_TOTINDA    0\n",
       "_FRTLT1     0\n",
       "_VEGLT1     0\n",
       "_RFDRHV5    0\n",
       "HLTHPLN1    0\n",
       "MEDCOST     1\n",
       "GENHLTH     1\n",
       "PHYSHLTH    0\n",
       "DIFFWALK    4\n",
       "SEX         0\n",
       "_PRACE1     0\n",
       "_AGEG5YR    0\n",
       "INCOME2     0\n",
       "dtype: int64"
      ]
     },
     "execution_count": 127,
     "metadata": {},
     "output_type": "execute_result"
    }
   ],
   "source": [
    "df_selected = df_selected.dropna(subset=['_MICHD'])\n",
    "df_selected.isnull().sum()"
   ]
  },
  {
   "cell_type": "markdown",
   "id": "eeec715a",
   "metadata": {},
   "source": [
    "### 8. _TOTINDA\n",
    "\n",
    "Adults who reported doing physical activity or exercise during the past 30 days other than their regular job \n",
    "\n",
    "1. Had physical activity or exercise \n",
    "2. No physical activity or exercise in last 30 days \n",
    "9. Don’t know/Refused/Missing \n",
    "\n",
    "Notes: EXERANY2 = 7 or 9 or Missing\n"
   ]
  },
  {
   "cell_type": "code",
   "execution_count": 128,
   "id": "9d7e4d58",
   "metadata": {},
   "outputs": [
    {
     "data": {
      "text/plain": [
       "array([0., 1.])"
      ]
     },
     "execution_count": 128,
     "metadata": {},
     "output_type": "execute_result"
    }
   ],
   "source": [
    "#8 _TOTINDA\n",
    "# 1 for physical activity\n",
    "# change 2 to 0 for no physical activity\n",
    "# Remove all 9 (don't know/refused)\n",
    "df_selected['_TOTINDA'] = df_selected['_TOTINDA'].replace({2:0})\n",
    "df_selected = df_selected[df_selected._TOTINDA != 9]\n",
    "df_selected._TOTINDA.unique()"
   ]
  },
  {
   "cell_type": "markdown",
   "id": "a10dd4fd",
   "metadata": {},
   "source": [
    "### 9. _FRTLT1\n",
    "\n",
    "Consume Fruit 1 or more times per day \n",
    "\n",
    "1. Consumed fruit one or more times per day \n",
    "2. Consumed fruit less than one time per day \n",
    "9.  Don´t know, refused or missing values"
   ]
  },
  {
   "cell_type": "code",
   "execution_count": 129,
   "id": "64b2fb80",
   "metadata": {},
   "outputs": [
    {
     "data": {
      "text/plain": [
       "array([0., 1.])"
      ]
     },
     "execution_count": 129,
     "metadata": {},
     "output_type": "execute_result"
    }
   ],
   "source": [
    "#9 _FRTLT1\n",
    "# Change 2 to 0. this means no fruit consumed per day. 1 will mean consumed 1 or more pieces of fruit per day \n",
    "# remove all dont knows and missing 9\n",
    "df_selected['_FRTLT1'] = df_selected['_FRTLT1'].replace({2:0})\n",
    "df_selected = df_selected[df_selected._FRTLT1 != 9]\n",
    "df_selected._FRTLT1.unique()"
   ]
  },
  {
   "cell_type": "markdown",
   "id": "b89ae7e2",
   "metadata": {},
   "source": [
    "### 10. _VEGLT1\n",
    "\n",
    "Consume Vegetables 1 or more times per day \n",
    "\n",
    "1 Consumed vegetables one or more times per day  \n",
    "2 Consumed vegetables less than one time per day \n",
    "9 Don´t know, refused or missing values"
   ]
  },
  {
   "cell_type": "code",
   "execution_count": 130,
   "id": "eca5c608",
   "metadata": {},
   "outputs": [
    {
     "data": {
      "text/plain": [
       "array([1., 0.])"
      ]
     },
     "execution_count": 130,
     "metadata": {},
     "output_type": "execute_result"
    }
   ],
   "source": [
    "#10 _VEGLT1\n",
    "# Change 2 to 0. this means no vegetables consumed per day. 1 will mean consumed 1 or more pieces of vegetable per day \n",
    "# remove all dont knows and missing 9\n",
    "df_selected['_VEGLT1'] = df_selected['_VEGLT1'].replace({2:0})\n",
    "df_selected = df_selected[df_selected._VEGLT1 != 9]\n",
    "df_selected._VEGLT1.unique()"
   ]
  },
  {
   "cell_type": "markdown",
   "id": "59e4ee34",
   "metadata": {},
   "source": [
    "### 11. _RFDRHV5\n",
    "\n",
    "Heavy drinkers (adult men having more than 14 drinks per week and adult women having more than 7 drinks per \n",
    "week) \n",
    "\n",
    "1. No \n",
    "2. Yes \n",
    "9. Don’t know/Refused/Missing "
   ]
  },
  {
   "cell_type": "code",
   "execution_count": 131,
   "id": "e9bfd9de",
   "metadata": {},
   "outputs": [
    {
     "data": {
      "text/plain": [
       "array([0., 1.])"
      ]
     },
     "execution_count": 131,
     "metadata": {},
     "output_type": "execute_result"
    }
   ],
   "source": [
    "#11 _RFDRHV5\n",
    "# Change 1 to 0 (1 was no for heavy drinking). change all 2 to 1 (2 was yes for heavy drinking)\n",
    "# remove all dont knows and missing 9\n",
    "df_selected['_RFDRHV5'] = df_selected['_RFDRHV5'].replace({1:0, 2:1})\n",
    "df_selected = df_selected[df_selected._RFDRHV5 != 9]\n",
    "df_selected._RFDRHV5.unique()"
   ]
  },
  {
   "cell_type": "markdown",
   "id": "e4449f8b",
   "metadata": {},
   "source": [
    "### 12. HLTHPLN1\n",
    "\n",
    "Do you have any kind of health care coverage, including health insurance, prepaid plans such as HMOs, or \n",
    "government plans such as Medicare, or Indian Health Service?\n",
    "\n",
    "1. Yes  \n",
    "2. No  \n",
    "7. Don’t know/Not Sure \n",
    "9. Refused "
   ]
  },
  {
   "cell_type": "code",
   "execution_count": 132,
   "id": "7f882b8c",
   "metadata": {},
   "outputs": [
    {
     "data": {
      "text/plain": [
       "array([1., 0.])"
      ]
     },
     "execution_count": 132,
     "metadata": {},
     "output_type": "execute_result"
    }
   ],
   "source": [
    "#12 HLTHPLN1\n",
    "# 1 is yes, change 2 to 0 because it is No health care access\n",
    "# remove 7 and 9 for don't know or refused\n",
    "df_selected['HLTHPLN1'] = df_selected['HLTHPLN1'].replace({2:0})\n",
    "df_selected = df_selected[df_selected.HLTHPLN1 != 7]\n",
    "df_selected = df_selected[df_selected.HLTHPLN1 != 9]\n",
    "df_selected.HLTHPLN1.unique()"
   ]
  },
  {
   "cell_type": "markdown",
   "id": "440ce8a2",
   "metadata": {},
   "source": [
    "### 13. MEDCOST\n",
    "\n",
    "Was there a time in the past 12 months when you needed to see a doctor but could not because of cost? \n",
    "\n",
    "1. Yes  \n",
    "2. No  \n",
    "7. Don’t know/Not sure \n",
    "9. Refused  \n",
    "\n",
    "BLANK Not asked or Missing "
   ]
  },
  {
   "cell_type": "code",
   "execution_count": 133,
   "id": "26d3bd63",
   "metadata": {},
   "outputs": [
    {
     "data": {
      "text/plain": [
       "array([ 0.,  1., nan])"
      ]
     },
     "execution_count": 133,
     "metadata": {},
     "output_type": "execute_result"
    }
   ],
   "source": [
    "#13 MEDCOST\n",
    "# Change 2 to 0 for no, 1 is already yes\n",
    "# remove 7 for don/t know and 9 for refused\n",
    "df_selected['MEDCOST'] = df_selected['MEDCOST'].replace({2:0})\n",
    "df_selected = df_selected[df_selected.MEDCOST != 7]\n",
    "df_selected = df_selected[df_selected.MEDCOST != 9]\n",
    "df_selected.MEDCOST.unique()"
   ]
  },
  {
   "cell_type": "code",
   "execution_count": 134,
   "id": "2f946957",
   "metadata": {},
   "outputs": [
    {
     "data": {
      "text/plain": [
       "DIABETE3    0\n",
       "_RFHYPE5    0\n",
       "TOLDHI2     0\n",
       "_CHOLCHK    0\n",
       "_BMI5       0\n",
       "SMOKE100    0\n",
       "CVDSTRK3    0\n",
       "_MICHD      0\n",
       "_TOTINDA    0\n",
       "_FRTLT1     0\n",
       "_VEGLT1     0\n",
       "_RFDRHV5    0\n",
       "HLTHPLN1    0\n",
       "MEDCOST     0\n",
       "GENHLTH     1\n",
       "PHYSHLTH    0\n",
       "DIFFWALK    2\n",
       "SEX         0\n",
       "_PRACE1     0\n",
       "_AGEG5YR    0\n",
       "INCOME2     0\n",
       "dtype: int64"
      ]
     },
     "execution_count": 134,
     "metadata": {},
     "output_type": "execute_result"
    }
   ],
   "source": [
    "df_selected = df_selected.dropna(subset=['MEDCOST'])\n",
    "df_selected.isnull().sum()"
   ]
  },
  {
   "cell_type": "markdown",
   "id": "b9444e37",
   "metadata": {},
   "source": [
    "### 14. GENHLTH\n",
    "\n",
    "Would you say that in general your health is: \n",
    "\n",
    "1. Excellent \n",
    "2. Very good \n",
    "3. Good\n",
    "4. Fair\n",
    "5. Poor\n",
    "7. Don’t know/Not Sure \n",
    "9. Refused\n",
    "\n",
    "BLANK Not asked or Missing"
   ]
  },
  {
   "cell_type": "code",
   "execution_count": 135,
   "id": "1a0d9b2f",
   "metadata": {},
   "outputs": [
    {
     "data": {
      "text/plain": [
       "array([ 5.,  3.,  2.,  4.,  1., nan])"
      ]
     },
     "execution_count": 135,
     "metadata": {},
     "output_type": "execute_result"
    }
   ],
   "source": [
    "#14 GENHLTH\n",
    "# This is an ordinal variable that I want to keep (1 is Excellent all the way to 5 which represents Poor)\n",
    "# Remove 7 and 9 for don't know and refused\n",
    "df_selected = df_selected[df_selected.GENHLTH != 7]\n",
    "df_selected = df_selected[df_selected.GENHLTH != 9]\n",
    "df_selected.GENHLTH.unique()"
   ]
  },
  {
   "cell_type": "code",
   "execution_count": 136,
   "id": "bf538a93",
   "metadata": {},
   "outputs": [
    {
     "data": {
      "text/plain": [
       "DIABETE3    0\n",
       "_RFHYPE5    0\n",
       "TOLDHI2     0\n",
       "_CHOLCHK    0\n",
       "_BMI5       0\n",
       "SMOKE100    0\n",
       "CVDSTRK3    0\n",
       "_MICHD      0\n",
       "_TOTINDA    0\n",
       "_FRTLT1     0\n",
       "_VEGLT1     0\n",
       "_RFDRHV5    0\n",
       "HLTHPLN1    0\n",
       "MEDCOST     0\n",
       "GENHLTH     0\n",
       "PHYSHLTH    0\n",
       "DIFFWALK    2\n",
       "SEX         0\n",
       "_PRACE1     0\n",
       "_AGEG5YR    0\n",
       "INCOME2     0\n",
       "dtype: int64"
      ]
     },
     "execution_count": 136,
     "metadata": {},
     "output_type": "execute_result"
    }
   ],
   "source": [
    "df_selected = df_selected.dropna(subset=['GENHLTH'])\n",
    "df_selected.isnull().sum()"
   ]
  },
  {
   "cell_type": "markdown",
   "id": "bf7d8c1d",
   "metadata": {},
   "source": [
    "### 15. PHYSHLTH\n",
    "\n",
    "Now thinking about your physical health, which includes physical illness and injury, for how many days during the past \n",
    "30 days was your physical health not good? \n",
    "\n",
    "1 - 30 Number of days \n",
    "\n",
    "88 None\n",
    "\n",
    "77 Don’t know/Not sure \n",
    "\n",
    "99 Refused  \n",
    "\n",
    "BLANK Not asked or Missing "
   ]
  },
  {
   "cell_type": "code",
   "execution_count": 137,
   "id": "4c895fb9",
   "metadata": {},
   "outputs": [
    {
     "data": {
      "text/plain": [
       "array([15.,  0., 30.,  2., 14., 28.,  7., 20.,  3., 10.,  1.,  5., 17.,\n",
       "        4., 19.,  6., 21., 12.,  8., 25., 27., 22., 29., 24.,  9., 16.,\n",
       "       18., 23., 13., 26., 11.])"
      ]
     },
     "execution_count": 137,
     "metadata": {},
     "output_type": "execute_result"
    }
   ],
   "source": [
    "#15 PHYSHLTH\n",
    "# already in days so keep that, scale will be 0-30\n",
    "# change 88 to 0 because it means none (no bad mental health days)\n",
    "# remove 77 and 99 for don't know not sure and refused\n",
    "df_selected['PHYSHLTH'] = df_selected['PHYSHLTH'].replace({88:0})\n",
    "df_selected = df_selected[df_selected.PHYSHLTH != 77]\n",
    "df_selected = df_selected[df_selected.PHYSHLTH != 99]\n",
    "df_selected.PHYSHLTH.unique()"
   ]
  },
  {
   "cell_type": "markdown",
   "id": "7050dbbb",
   "metadata": {},
   "source": [
    "### 16. DIFFWALK\n",
    "\n",
    "Do you have serious difficulty walking or climbing stairs? \n",
    "\n",
    "1. Yes\n",
    "2. No\n",
    "7. Don’t know/Not Sure  \n",
    "9. Refused  \n",
    "\n",
    "BLANK Not asked or Missing "
   ]
  },
  {
   "cell_type": "code",
   "execution_count": 138,
   "id": "45f4f6c6",
   "metadata": {},
   "outputs": [
    {
     "data": {
      "text/plain": [
       "array([ 1.,  0., nan])"
      ]
     },
     "execution_count": 138,
     "metadata": {},
     "output_type": "execute_result"
    }
   ],
   "source": [
    "#16 DIFFWALK\n",
    "# change 2 to 0 for no. 1 is already yes\n",
    "# remove 7 and 9 for don't know not sure and refused\n",
    "df_selected['DIFFWALK'] = df_selected['DIFFWALK'].replace({2:0})\n",
    "df_selected = df_selected[df_selected.DIFFWALK != 7]\n",
    "df_selected = df_selected[df_selected.DIFFWALK != 9]\n",
    "df_selected.DIFFWALK.unique()"
   ]
  },
  {
   "cell_type": "code",
   "execution_count": 139,
   "id": "e361d73c",
   "metadata": {},
   "outputs": [
    {
     "data": {
      "text/plain": [
       "DIABETE3    0\n",
       "_RFHYPE5    0\n",
       "TOLDHI2     0\n",
       "_CHOLCHK    0\n",
       "_BMI5       0\n",
       "SMOKE100    0\n",
       "CVDSTRK3    0\n",
       "_MICHD      0\n",
       "_TOTINDA    0\n",
       "_FRTLT1     0\n",
       "_VEGLT1     0\n",
       "_RFDRHV5    0\n",
       "HLTHPLN1    0\n",
       "MEDCOST     0\n",
       "GENHLTH     0\n",
       "PHYSHLTH    0\n",
       "DIFFWALK    0\n",
       "SEX         0\n",
       "_PRACE1     0\n",
       "_AGEG5YR    0\n",
       "INCOME2     0\n",
       "dtype: int64"
      ]
     },
     "execution_count": 139,
     "metadata": {},
     "output_type": "execute_result"
    }
   ],
   "source": [
    "df_selected = df_selected.dropna(subset=['DIFFWALK'])\n",
    "df_selected.isnull().sum()"
   ]
  },
  {
   "cell_type": "markdown",
   "id": "072188f5",
   "metadata": {},
   "source": [
    "### 17. SEX\n",
    "\n"
   ]
  },
  {
   "cell_type": "code",
   "execution_count": 140,
   "id": "57782c19",
   "metadata": {},
   "outputs": [
    {
     "data": {
      "text/plain": [
       "array([0., 1.])"
      ]
     },
     "execution_count": 140,
     "metadata": {},
     "output_type": "execute_result"
    }
   ],
   "source": [
    "#18 SEX\n",
    "# in other words - is respondent male (somewhat arbitrarily chose this change because men are at higher risk for heart disease)\n",
    "# change 2 to 0 (female as 0). Male is 1\n",
    "df_selected['SEX'] = df_selected['SEX'].replace({2:0})\n",
    "df_selected.SEX.unique()"
   ]
  },
  {
   "cell_type": "markdown",
   "id": "58271178",
   "metadata": {},
   "source": [
    "### 18. _PRACE1\n",
    "\n",
    "Preferred race category \n",
    "\n",
    "1. White \n",
    "2. Black or African American \n",
    "3. American Indian or Alaskan Native \n",
    "4. Asian  \n",
    "5. Native Hawaiian or other Pacific Islander \n",
    "6. Other race \n",
    "7. No preferred race \n",
    "8. Multiracial but preferred race not answered \n",
    "77. Don’t know/Not sure\n",
    "99. Refused \n"
   ]
  },
  {
   "cell_type": "code",
   "execution_count": 141,
   "id": "8d6c3b8f",
   "metadata": {},
   "outputs": [
    {
     "data": {
      "text/plain": [
       "array([1., 2., 3., 0., 4., 6., 5.])"
      ]
     },
     "execution_count": 141,
     "metadata": {},
     "output_type": "execute_result"
    }
   ],
   "source": [
    "#18 _PRACE1\n",
    "# change 7 to 0 for no preferred race\n",
    "# remove 77, 99, 8, 9 and 10 for don't know not sure and refused\n",
    "df_selected['_PRACE1'] = df_selected['_PRACE1'].replace({7:0})\n",
    "df_selected = df_selected[df_selected._PRACE1 != 77]\n",
    "df_selected = df_selected[df_selected._PRACE1 != 99]\n",
    "df_selected = df_selected[df_selected._PRACE1 != 8]\n",
    "df_selected = df_selected[df_selected._PRACE1 != 9]\n",
    "df_selected = df_selected[df_selected._PRACE1 != 10]\n",
    "df_selected._PRACE1.unique()"
   ]
  },
  {
   "cell_type": "markdown",
   "id": "7712f11f",
   "metadata": {},
   "source": [
    "### 19. _AGEG5YR\n",
    "\n",
    "Fourteen-level age category \n",
    "\n",
    "1. Age 18 to 24\n",
    "2. Age 25 to 29 \n",
    "3. Age 30 to 34 \n",
    "4. Age 35 to 39 \n",
    "5. Age 40 to 44 \n",
    "6. Age 45 to 49 \n",
    "7. Age 50 to 54 \n",
    "8. Age 55 to 59\n",
    "9. Age 60 to 64 \n",
    "10. Age 65 to 69 \n",
    "11. Age 70 to 74 \n",
    "12. Age 75 to 79 \n",
    "13. Age 80 or older \n",
    "14. Don’t know/Refused/Missing \n",
    " "
   ]
  },
  {
   "cell_type": "code",
   "execution_count": 142,
   "id": "0b8022d1",
   "metadata": {},
   "outputs": [
    {
     "data": {
      "text/plain": [
       "array([ 9.,  7., 11., 10., 13.,  8.,  4.,  6.,  2., 12.,  5.,  1.,  3.])"
      ]
     },
     "execution_count": 142,
     "metadata": {},
     "output_type": "execute_result"
    }
   ],
   "source": [
    "#19 _AGEG5YR\n",
    "# already ordinal. 1 is 18-24 all the way up to 13 wis 80 and older. 5 year increments.\n",
    "# remove 14 because it is don't know or missing\n",
    "df_selected = df_selected[df_selected._AGEG5YR != 14]\n",
    "df_selected._AGEG5YR.unique()"
   ]
  },
  {
   "cell_type": "code",
   "execution_count": 143,
   "id": "a09c2238",
   "metadata": {},
   "outputs": [
    {
     "data": {
      "text/plain": [
       "DIABETE3    0\n",
       "_RFHYPE5    0\n",
       "TOLDHI2     0\n",
       "_CHOLCHK    0\n",
       "_BMI5       0\n",
       "SMOKE100    0\n",
       "CVDSTRK3    0\n",
       "_MICHD      0\n",
       "_TOTINDA    0\n",
       "_FRTLT1     0\n",
       "_VEGLT1     0\n",
       "_RFDRHV5    0\n",
       "HLTHPLN1    0\n",
       "MEDCOST     0\n",
       "GENHLTH     0\n",
       "PHYSHLTH    0\n",
       "DIFFWALK    0\n",
       "SEX         0\n",
       "_PRACE1     0\n",
       "_AGEG5YR    0\n",
       "INCOME2     0\n",
       "dtype: int64"
      ]
     },
     "execution_count": 143,
     "metadata": {},
     "output_type": "execute_result"
    }
   ],
   "source": [
    "df_selected.isnull().sum()"
   ]
  },
  {
   "cell_type": "markdown",
   "id": "7810112b",
   "metadata": {},
   "source": [
    "### 20. INCOME2\n",
    "\n",
    "Is your annual household income from all sources:  (If respondent refuses at any income level, code \"Refused.\") \n",
    "\n",
    "1. Less than $10,000 \n",
    "2. Less than $15,000 ($10,000 to less than $15,000) \n",
    "3. Less than $20,000 ($15,000 to less than $20,000) \n",
    "4. Less than $25,000 ($20,000 to less than $25,000) \n",
    "5. Less than $35,000 ($25,000 to less than $35,000) \n",
    "6. Less than $50,000 ($35,000 to less than $50,000) \n",
    "7. Less than $75,000 ($50,000 to less than $75,000) \n",
    "8. $75,000 or more\n",
    "77. Don’t know/Not sure \n",
    "99. Refused \n",
    "\n",
    "BLANK Not asked or Missing"
   ]
  },
  {
   "cell_type": "code",
   "execution_count": 144,
   "id": "780011a0",
   "metadata": {},
   "outputs": [
    {
     "data": {
      "text/plain": [
       "array([3., 1., 8., 6., 4., 7., 2., 5.])"
      ]
     },
     "execution_count": 144,
     "metadata": {},
     "output_type": "execute_result"
    }
   ],
   "source": [
    "#21 INCOME2\n",
    "# Variable is already ordinal with 1 being less than $10,000 all the way up to 8 being $75,000 or more\n",
    "# Remove 77 and 99 for don't know and refused\n",
    "df_selected = df_selected[df_selected.INCOME2 != 77]\n",
    "df_selected = df_selected[df_selected.INCOME2 != 99]\n",
    "df_selected.INCOME2.unique()"
   ]
  },
  {
   "cell_type": "code",
   "execution_count": 145,
   "id": "788eefa4",
   "metadata": {},
   "outputs": [
    {
     "data": {
      "text/plain": [
       "(253139, 21)"
      ]
     },
     "execution_count": 145,
     "metadata": {},
     "output_type": "execute_result"
    }
   ],
   "source": [
    "df_selected.shape"
   ]
  },
  {
   "cell_type": "markdown",
   "id": "4224705c",
   "metadata": {},
   "source": [
    "### save to new csv"
   ]
  },
  {
   "cell_type": "code",
   "execution_count": 146,
   "id": "6b961e25",
   "metadata": {},
   "outputs": [],
   "source": [
    "#save df_selected to new csv\n",
    "df_selected.to_csv('./data/diabetes_cleaned.csv', index=False)"
   ]
  },
  {
   "cell_type": "markdown",
   "id": "2a98021e",
   "metadata": {},
   "source": [
    "### load it as a new dataset"
   ]
  },
  {
   "cell_type": "code",
   "execution_count": 178,
   "id": "dc170ad1",
   "metadata": {},
   "outputs": [],
   "source": [
    "df = pd.read_csv('./data/diabetes_cleaned.csv')"
   ]
  },
  {
   "cell_type": "code",
   "execution_count": 179,
   "id": "9adeb950",
   "metadata": {},
   "outputs": [
    {
     "data": {
      "text/html": [
       "<div>\n",
       "<style scoped>\n",
       "    .dataframe tbody tr th:only-of-type {\n",
       "        vertical-align: middle;\n",
       "    }\n",
       "\n",
       "    .dataframe tbody tr th {\n",
       "        vertical-align: top;\n",
       "    }\n",
       "\n",
       "    .dataframe thead th {\n",
       "        text-align: right;\n",
       "    }\n",
       "</style>\n",
       "<table border=\"1\" class=\"dataframe\">\n",
       "  <thead>\n",
       "    <tr style=\"text-align: right;\">\n",
       "      <th></th>\n",
       "      <th>DIABETE3</th>\n",
       "      <th>_RFHYPE5</th>\n",
       "      <th>TOLDHI2</th>\n",
       "      <th>_CHOLCHK</th>\n",
       "      <th>_BMI5</th>\n",
       "      <th>SMOKE100</th>\n",
       "      <th>CVDSTRK3</th>\n",
       "      <th>_MICHD</th>\n",
       "      <th>_TOTINDA</th>\n",
       "      <th>_FRTLT1</th>\n",
       "      <th>...</th>\n",
       "      <th>_RFDRHV5</th>\n",
       "      <th>HLTHPLN1</th>\n",
       "      <th>MEDCOST</th>\n",
       "      <th>GENHLTH</th>\n",
       "      <th>PHYSHLTH</th>\n",
       "      <th>DIFFWALK</th>\n",
       "      <th>SEX</th>\n",
       "      <th>_PRACE1</th>\n",
       "      <th>_AGEG5YR</th>\n",
       "      <th>INCOME2</th>\n",
       "    </tr>\n",
       "  </thead>\n",
       "  <tbody>\n",
       "    <tr>\n",
       "      <th>0</th>\n",
       "      <td>0.0</td>\n",
       "      <td>1.0</td>\n",
       "      <td>1.0</td>\n",
       "      <td>1.0</td>\n",
       "      <td>40.18</td>\n",
       "      <td>1.0</td>\n",
       "      <td>0.0</td>\n",
       "      <td>0.0</td>\n",
       "      <td>0.0</td>\n",
       "      <td>0.0</td>\n",
       "      <td>...</td>\n",
       "      <td>0.0</td>\n",
       "      <td>1.0</td>\n",
       "      <td>0.0</td>\n",
       "      <td>5.0</td>\n",
       "      <td>15.0</td>\n",
       "      <td>1.0</td>\n",
       "      <td>0.0</td>\n",
       "      <td>1.0</td>\n",
       "      <td>9.0</td>\n",
       "      <td>3.0</td>\n",
       "    </tr>\n",
       "    <tr>\n",
       "      <th>1</th>\n",
       "      <td>0.0</td>\n",
       "      <td>0.0</td>\n",
       "      <td>0.0</td>\n",
       "      <td>0.0</td>\n",
       "      <td>25.09</td>\n",
       "      <td>1.0</td>\n",
       "      <td>0.0</td>\n",
       "      <td>0.0</td>\n",
       "      <td>1.0</td>\n",
       "      <td>0.0</td>\n",
       "      <td>...</td>\n",
       "      <td>0.0</td>\n",
       "      <td>0.0</td>\n",
       "      <td>1.0</td>\n",
       "      <td>3.0</td>\n",
       "      <td>0.0</td>\n",
       "      <td>0.0</td>\n",
       "      <td>0.0</td>\n",
       "      <td>1.0</td>\n",
       "      <td>7.0</td>\n",
       "      <td>1.0</td>\n",
       "    </tr>\n",
       "    <tr>\n",
       "      <th>2</th>\n",
       "      <td>0.0</td>\n",
       "      <td>1.0</td>\n",
       "      <td>1.0</td>\n",
       "      <td>1.0</td>\n",
       "      <td>28.19</td>\n",
       "      <td>0.0</td>\n",
       "      <td>0.0</td>\n",
       "      <td>0.0</td>\n",
       "      <td>0.0</td>\n",
       "      <td>1.0</td>\n",
       "      <td>...</td>\n",
       "      <td>0.0</td>\n",
       "      <td>1.0</td>\n",
       "      <td>1.0</td>\n",
       "      <td>5.0</td>\n",
       "      <td>30.0</td>\n",
       "      <td>1.0</td>\n",
       "      <td>0.0</td>\n",
       "      <td>1.0</td>\n",
       "      <td>9.0</td>\n",
       "      <td>8.0</td>\n",
       "    </tr>\n",
       "    <tr>\n",
       "      <th>3</th>\n",
       "      <td>0.0</td>\n",
       "      <td>1.0</td>\n",
       "      <td>0.0</td>\n",
       "      <td>1.0</td>\n",
       "      <td>26.52</td>\n",
       "      <td>0.0</td>\n",
       "      <td>0.0</td>\n",
       "      <td>0.0</td>\n",
       "      <td>1.0</td>\n",
       "      <td>1.0</td>\n",
       "      <td>...</td>\n",
       "      <td>0.0</td>\n",
       "      <td>1.0</td>\n",
       "      <td>0.0</td>\n",
       "      <td>2.0</td>\n",
       "      <td>0.0</td>\n",
       "      <td>0.0</td>\n",
       "      <td>0.0</td>\n",
       "      <td>1.0</td>\n",
       "      <td>11.0</td>\n",
       "      <td>6.0</td>\n",
       "    </tr>\n",
       "    <tr>\n",
       "      <th>4</th>\n",
       "      <td>0.0</td>\n",
       "      <td>1.0</td>\n",
       "      <td>1.0</td>\n",
       "      <td>1.0</td>\n",
       "      <td>23.89</td>\n",
       "      <td>0.0</td>\n",
       "      <td>0.0</td>\n",
       "      <td>0.0</td>\n",
       "      <td>1.0</td>\n",
       "      <td>1.0</td>\n",
       "      <td>...</td>\n",
       "      <td>0.0</td>\n",
       "      <td>1.0</td>\n",
       "      <td>0.0</td>\n",
       "      <td>2.0</td>\n",
       "      <td>0.0</td>\n",
       "      <td>0.0</td>\n",
       "      <td>0.0</td>\n",
       "      <td>1.0</td>\n",
       "      <td>11.0</td>\n",
       "      <td>4.0</td>\n",
       "    </tr>\n",
       "  </tbody>\n",
       "</table>\n",
       "<p>5 rows × 21 columns</p>\n",
       "</div>"
      ],
      "text/plain": [
       "   DIABETE3  _RFHYPE5  TOLDHI2  _CHOLCHK  _BMI5  SMOKE100  CVDSTRK3  _MICHD  \\\n",
       "0       0.0       1.0      1.0       1.0  40.18       1.0       0.0     0.0   \n",
       "1       0.0       0.0      0.0       0.0  25.09       1.0       0.0     0.0   \n",
       "2       0.0       1.0      1.0       1.0  28.19       0.0       0.0     0.0   \n",
       "3       0.0       1.0      0.0       1.0  26.52       0.0       0.0     0.0   \n",
       "4       0.0       1.0      1.0       1.0  23.89       0.0       0.0     0.0   \n",
       "\n",
       "   _TOTINDA  _FRTLT1  ...  _RFDRHV5  HLTHPLN1  MEDCOST  GENHLTH  PHYSHLTH  \\\n",
       "0       0.0      0.0  ...       0.0       1.0      0.0      5.0      15.0   \n",
       "1       1.0      0.0  ...       0.0       0.0      1.0      3.0       0.0   \n",
       "2       0.0      1.0  ...       0.0       1.0      1.0      5.0      30.0   \n",
       "3       1.0      1.0  ...       0.0       1.0      0.0      2.0       0.0   \n",
       "4       1.0      1.0  ...       0.0       1.0      0.0      2.0       0.0   \n",
       "\n",
       "   DIFFWALK  SEX  _PRACE1  _AGEG5YR  INCOME2  \n",
       "0       1.0  0.0      1.0       9.0      3.0  \n",
       "1       0.0  0.0      1.0       7.0      1.0  \n",
       "2       1.0  0.0      1.0       9.0      8.0  \n",
       "3       0.0  0.0      1.0      11.0      6.0  \n",
       "4       0.0  0.0      1.0      11.0      4.0  \n",
       "\n",
       "[5 rows x 21 columns]"
      ]
     },
     "execution_count": 179,
     "metadata": {},
     "output_type": "execute_result"
    }
   ],
   "source": [
    "df.head()"
   ]
  },
  {
   "cell_type": "code",
   "execution_count": 180,
   "id": "2021ce03",
   "metadata": {},
   "outputs": [
    {
     "data": {
      "text/plain": [
       "Index(['DIABETE3', '_RFHYPE5', 'TOLDHI2', '_CHOLCHK', '_BMI5', 'SMOKE100',\n",
       "       'CVDSTRK3', '_MICHD', '_TOTINDA', '_FRTLT1', '_VEGLT1', '_RFDRHV5',\n",
       "       'HLTHPLN1', 'MEDCOST', 'GENHLTH', 'PHYSHLTH', 'DIFFWALK', 'SEX',\n",
       "       '_PRACE1', '_AGEG5YR', 'INCOME2'],\n",
       "      dtype='object')"
      ]
     },
     "execution_count": 180,
     "metadata": {},
     "output_type": "execute_result"
    }
   ],
   "source": [
    "df.columns"
   ]
  },
  {
   "cell_type": "code",
   "execution_count": 181,
   "id": "19d4b74e",
   "metadata": {},
   "outputs": [
    {
     "data": {
      "text/plain": [
       "(253139, 21)"
      ]
     },
     "execution_count": 181,
     "metadata": {},
     "output_type": "execute_result"
    }
   ],
   "source": [
    "df.shape"
   ]
  },
  {
   "cell_type": "markdown",
   "id": "77729944",
   "metadata": {},
   "source": [
    "### rename the columns for easy readability"
   ]
  },
  {
   "cell_type": "code",
   "execution_count": 207,
   "id": "4f644514",
   "metadata": {},
   "outputs": [],
   "source": [
    "df = df_selected.rename(columns = {'DIABETE3':'diabetes_status', \n",
    "                                         '_RFHYPE5':'high_blood_pressure',  \n",
    "                                         'TOLDHI2':'high_cholesterol', '_CHOLCHK':'cholesterol_check', \n",
    "                                         '_BMI5':'bmi', \n",
    "                                         'SMOKE100':'smoker', \n",
    "                                         'CVDSTRK3':'stroke', '_MICHD':'heart_disease_or_attack', \n",
    "                                         '_TOTINDA':'physical_activity', \n",
    "                                         '_FRTLT1':'fruits', '_VEGLT1':\"veggies\", \n",
    "                                         '_RFDRHV5':'heavy_alcohol_consumption', \n",
    "                                         'HLTHPLN1':'any_healthcare', 'MEDCOST':'no_docbc_cost', \n",
    "                                         'GENHLTH':'gen_health', 'MENTHLTH':'ment_health', 'PHYSHLTH':'phys_health', 'DIFFWALK':'diff_walk', \n",
    "                                         'SEX':'sex', '_AGEG5YR':'age', '_PRACE1':'race', 'INCOME2':'income' })"
   ]
  },
  {
   "cell_type": "markdown",
   "id": "1c189718",
   "metadata": {},
   "source": [
    "# Exploratory Data Analysis"
   ]
  },
  {
   "cell_type": "markdown",
   "id": "6f6daeb3",
   "metadata": {},
   "source": [
    "### class imbalance"
   ]
  },
  {
   "cell_type": "code",
   "execution_count": 183,
   "id": "c2be8461",
   "metadata": {},
   "outputs": [],
   "source": [
    "import matplotlib.pyplot as plt\n",
    "import seaborn as sns\n",
    "import numpy as np\n"
   ]
  },
  {
   "cell_type": "code",
   "execution_count": null,
   "id": "807f9035",
   "metadata": {},
   "outputs": [],
   "source": [
    "df.describe().T"
   ]
  },
  {
   "cell_type": "code",
   "execution_count": 184,
   "id": "bede4a5b",
   "metadata": {},
   "outputs": [
    {
     "data": {
      "image/png": "[encoded data removed]",
      "text/plain": [
       "<Figure size 600x400 with 1 Axes>"
      ]
     },
     "metadata": {},
     "output_type": "display_data"
    }
   ],
   "source": [
    "plt.figure(figsize=(6,4))\n",
    "sns.countplot(x='diabetes_status', data=df, color=\"skyblue\")\n",
    "plt.title(\"Target Variable: Diabetes Distribution\")\n",
    "plt.xlabel(\"Diabetes Status\")\n",
    "plt.xticks(ticks=[0, 1, 2], labels=['No Diabetes', 'Diabetes During Pregnancy', 'Diabetes'])\n",
    "plt.show()"
   ]
  },
  {
   "cell_type": "code",
   "execution_count": 185,
   "id": "0461e3ab",
   "metadata": {},
   "outputs": [
    {
     "name": "stdout",
     "output_type": "stream",
     "text": [
      "Class distribution of diabetes_status\n",
      "0.0    211255\n",
      "1.0      1970\n",
      "2.0     39914\n",
      "dtype: int64\n"
     ]
    }
   ],
   "source": [
    "class_imb = df.groupby('diabetes_status').size()\n",
    "print(f'Class distribution of {class_imb}')"
   ]
  },
  {
   "cell_type": "markdown",
   "id": "fff54b2b",
   "metadata": {},
   "source": [
    "### insight\n",
    "I have a class imbalance problem. \n",
    "\n",
    "I now want to randomly undersample the majority class to ensure class balance.\n",
    "\n",
    "But first let's make the target feature binary"
   ]
  },
  {
   "cell_type": "code",
   "execution_count": 208,
   "id": "052ecfab",
   "metadata": {},
   "outputs": [
    {
     "data": {
      "text/plain": [
       "array([0., 1.])"
      ]
     },
     "execution_count": 208,
     "metadata": {},
     "output_type": "execute_result"
    }
   ],
   "source": [
    "#Copy the old table to a new one.\n",
    "df_binary = df\n",
    "\n",
    "#Change the diabetics 2 to a 1 and pre-diabetics to remain the same, so that we have 0 meaning non-diabetic and pre-diabetic and 1 meaning diabetic.\n",
    "df_binary['diabetes_status'] = df_binary['diabetes_status'].replace({2:1})\n",
    "\n",
    "#Change the column name to diabetes_binary\n",
    "df_binary = df_binary.rename(columns = {'diabetes_status': 'diabetes_binary'})\n",
    "df_binary.diabetes_binary.unique()"
   ]
  },
  {
   "cell_type": "code",
   "execution_count": 209,
   "id": "7d558710",
   "metadata": {},
   "outputs": [
    {
     "name": "stdout",
     "output_type": "stream",
     "text": [
      "Class distribution of diabetes_binary\n",
      "0.0    211255\n",
      "1.0     41884\n",
      "dtype: int64\n"
     ]
    }
   ],
   "source": [
    "class_imb = df_binary.groupby('diabetes_binary').size()\n",
    "print(f'Class distribution of {class_imb}')"
   ]
  },
  {
   "cell_type": "code",
   "execution_count": 210,
   "id": "5adde7b2",
   "metadata": {},
   "outputs": [],
   "source": [
    "#Separate the 0(No Diabetes) and 1&2(Pre-diabetes and Diabetes)\n",
    "#Get the 1s\n",
    "is1 = df_binary['diabetes_binary'] == 1\n",
    "df_5050_1 = df_binary[is1]\n",
    "\n",
    "#Get the 0s\n",
    "is0 = df_binary['diabetes_binary'] == 0\n",
    "df_5050_0 = df_binary[is0] \n",
    "\n",
    "#Select the 41884 random cases from the 0 (non-diabetes group). we already have 41884 cases from the diabetes risk group\n",
    "df_5050_0_rand1 = df_5050_0.take(np.random.permutation(len(df_5050_0))[:41884])\n",
    "\n",
    "#Append the 41884 1s to the 41884 randomly selected 0s\n",
    "df_5050 = pd.concat([df_5050_0_rand1, df_5050_1], ignore_index=True)\n"
   ]
  },
  {
   "cell_type": "code",
   "execution_count": 211,
   "id": "3f2edaa5",
   "metadata": {},
   "outputs": [
    {
     "data": {
      "text/plain": [
       "diabetes_binary\n",
       "0.0    41884\n",
       "1.0    41884\n",
       "dtype: int64"
      ]
     },
     "execution_count": 211,
     "metadata": {},
     "output_type": "execute_result"
    }
   ],
   "source": [
    "df_5050.groupby(['diabetes_binary']).size()"
   ]
  },
  {
   "cell_type": "markdown",
   "id": "f83a1b06",
   "metadata": {},
   "source": [
    "### Save the 50-50 balanced dataset to csv"
   ]
  },
  {
   "cell_type": "code",
   "execution_count": 212,
   "id": "d5fef9a9",
   "metadata": {},
   "outputs": [],
   "source": [
    "df_5050.to_csv('./data/diabetes_binary_5050_split.csv', sep=\",\", index=False)"
   ]
  },
  {
   "cell_type": "markdown",
   "id": "8ca0ee27",
   "metadata": {},
   "source": [
    "also save the original dataframe"
   ]
  },
  {
   "cell_type": "code",
   "execution_count": 213,
   "id": "b81941c5",
   "metadata": {},
   "outputs": [],
   "source": [
    "df_binary.to_csv('./data/diabetes_binary.csv', sep=\",\", index=False)"
   ]
  },
  {
   "cell_type": "markdown",
   "id": "ce8089a7",
   "metadata": {},
   "source": [
    "### load the new dataset to a dataframe"
   ]
  },
  {
   "cell_type": "code",
   "execution_count": 214,
   "id": "35317870",
   "metadata": {},
   "outputs": [],
   "source": [
    "df = pd.read_csv('./data/diabetes_binary_5050_split.csv')"
   ]
  },
  {
   "cell_type": "code",
   "execution_count": 215,
   "id": "4015f89b",
   "metadata": {},
   "outputs": [
    {
     "data": {
      "text/plain": [
       "Index(['diabetes_binary', 'high_blood_pressure', 'high_cholesterol',\n",
       "       'cholesterol_check', 'bmi', 'smoker', 'stroke',\n",
       "       'heart_disease_or_attack', 'physical_activity', 'fruits', 'veggies',\n",
       "       'heavy_alcohol_consumption', 'any_healthcare', 'no_docbc_cost',\n",
       "       'gen_health', 'phys_health', 'diff_walk', 'sex', 'race', 'age',\n",
       "       'income'],\n",
       "      dtype='object')"
      ]
     },
     "execution_count": 215,
     "metadata": {},
     "output_type": "execute_result"
    }
   ],
   "source": [
    "col = df.columns\n",
    "col"
   ]
  },
  {
   "cell_type": "code",
   "execution_count": 220,
   "id": "74d49056",
   "metadata": {},
   "outputs": [],
   "source": [
    "numeric_cols = ['diabetes_binary', 'high_blood_pressure', 'high_cholesterol',\n",
    "       'cholesterol_check', 'bmi', 'smoker', 'stroke',\n",
    "       'heart_disease_or_attack', 'physical_activity', 'fruits', 'veggies',\n",
    "       'heavy_alcohol_consumption', 'any_healthcare', 'no_docbc_cost',\n",
    "       'gen_health', 'phys_health', 'diff_walk', 'sex', 'race', 'age',\n",
    "       'income']"
   ]
  },
  {
   "cell_type": "markdown",
   "id": "ff0fb4dd",
   "metadata": {},
   "source": [
    "### Histograms and density plots"
   ]
  },
  {
   "cell_type": "code",
   "execution_count": 221,
   "id": "d556a033",
   "metadata": {},
   "outputs": [
    {
     "data": {
      "image/png": "[encoded data removed]",
      "text/plain": [
       "<Figure size 600x400 with 1 Axes>"
      ]
     },
     "metadata": {},
     "output_type": "display_data"
    },
    {
     "data": {
      "image/png": "[encoded data removed]",
      "text/plain": [
       "<Figure size 600x400 with 1 Axes>"
      ]
     },
     "metadata": {},
     "output_type": "display_data"
    },
    {
     "data": {
      "image/png": "[encoded data removed]",
      "text/plain": [
       "<Figure size 600x400 with 1 Axes>"
      ]
     },
     "metadata": {},
     "output_type": "display_data"
    },
    {
     "data": {
      "image/png": "[encoded data removed]",
      "text/plain": [
       "<Figure size 600x400 with 1 Axes>"
      ]
     },
     "metadata": {},
     "output_type": "display_data"
    },
    {
     "data": {
      "image/png": "[encoded data removed]",
      "text/plain": [
       "<Figure size 600x400 with 1 Axes>"
      ]
     },
     "metadata": {},
     "output_type": "display_data"
    },
    {
     "data": {
      "image/png": "[encoded data removed]",
      "text/plain": [
       "<Figure size 600x400 with 1 Axes>"
      ]
     },
     "metadata": {},
     "output_type": "display_data"
    },
    {
     "data": {
      "image/png": "[encoded data removed]",
      "text/plain": [
       "<Figure size 600x400 with 1 Axes>"
      ]
     },
     "metadata": {},
     "output_type": "display_data"
    },
    {
     "data": {
      "image/png": "[encoded data removed]",
      "text/plain": [
       "<Figure size 600x400 with 1 Axes>"
      ]
     },
     "metadata": {},
     "output_type": "display_data"
    },
    {
     "data": {
      "image/png": "[encoded data removed]",
      "text/plain": [
       "<Figure size 600x400 with 1 Axes>"
      ]
     },
     "metadata": {},
     "output_type": "display_data"
    },
    {
     "data": {
      "image/png": "[encoded data removed]",
      "text/plain": [
       "<Figure size 600x400 with 1 Axes>"
      ]
     },
     "metadata": {},
     "output_type": "display_data"
    },
    {
     "data": {
      "image/png": "[encoded data removed]",
      "text/plain": [
       "<Figure size 600x400 with 1 Axes>"
      ]
     },
     "metadata": {},
     "output_type": "display_data"
    },
    {
     "data": {
      "image/png": "[encoded data removed]",
      "text/plain": [
       "<Figure size 600x400 with 1 Axes>"
      ]
     },
     "metadata": {},
     "output_type": "display_data"
    },
    {
     "data": {
      "image/png": "[encoded data removed]",
      "text/plain": [
       "<Figure size 600x400 with 1 Axes>"
      ]
     },
     "metadata": {},
     "output_type": "display_data"
    },
    {
     "data": {
      "image/png": "[encoded data removed]",
      "text/plain": [
       "<Figure size 600x400 with 1 Axes>"
      ]
     },
     "metadata": {},
     "output_type": "display_data"
    },
    {
     "data": {
      "image/png": "[encoded data removed]",
      "text/plain": [
       "<Figure size 600x400 with 1 Axes>"
      ]
     },
     "metadata": {},
     "output_type": "display_data"
    },
    {
     "data": {
      "image/png": "[encoded data removed]",
      "text/plain": [
       "<Figure size 600x400 with 1 Axes>"
      ]
     },
     "metadata": {},
     "output_type": "display_data"
    },
    {
     "data": {
      "image/png": "[encoded data removed]",
      "text/plain": [
       "<Figure size 600x400 with 1 Axes>"
      ]
     },
     "metadata": {},
     "output_type": "display_data"
    },
    {
     "data": {
      "image/png": "[encoded data removed]",
      "text/plain": [
       "<Figure size 600x400 with 1 Axes>"
      ]
     },
     "metadata": {},
     "output_type": "display_data"
    },
    {
     "data": {
      "image/png": "[encoded data removed]",
      "text/plain": [
       "<Figure size 600x400 with 1 Axes>"
      ]
     },
     "metadata": {},
     "output_type": "display_data"
    },
    {
     "data": {
      "image/png": "[encoded data removed]",
      "text/plain": [
       "<Figure size 600x400 with 1 Axes>"
      ]
     },
     "metadata": {},
     "output_type": "display_data"
    },
    {
     "data": {
      "image/png": "[encoded data removed]",
      "text/plain": [
       "<Figure size 600x400 with 1 Axes>"
      ]
     },
     "metadata": {},
     "output_type": "display_data"
    }
   ],
   "source": [
    "for col in numeric_cols:\n",
    "    plt.figure(figsize=(6,4))\n",
    "    sns.histplot(df[col], kde=True)\n",
    "    plt.title(f\"Distribution of {col}\")\n",
    "    plt.show()"
   ]
  },
  {
   "cell_type": "markdown",
   "id": "dce0213b",
   "metadata": {},
   "source": [
    "### Pairplots to check whether the data is linearly separable"
   ]
  },
  {
   "cell_type": "code",
   "execution_count": null,
   "id": "6207b6db",
   "metadata": {},
   "outputs": [],
   "source": [
    "sns.pairplot(df, hue='diabetes_binary', palette='husl')\n",
    "plt.show()"
   ]
  },
  {
   "cell_type": "markdown",
   "id": "ae98123c",
   "metadata": {},
   "source": [
    "### Boxplot to check for outliers"
   ]
  },
  {
   "cell_type": "code",
   "execution_count": null,
   "id": "2174110f",
   "metadata": {},
   "outputs": [],
   "source": []
  }
 ],
 "metadata": {
  "kernelspec": {
   "display_name": "env",
   "language": "python",
   "name": "python3"
  },
  "language_info": {
   "codemirror_mode": {
    "name": "ipython",
    "version": 3
   },
   "file_extension": ".py",
   "mimetype": "text/x-python",
   "name": "python",
   "nbconvert_exporter": "python",
   "pygments_lexer": "ipython3",
   "version": "3.13.5"
  }
 },
 "nbformat": 4,
 "nbformat_minor": 5
}
